{
  "cells": [
    {
      "cell_type": "code",
      "execution_count": 1,
      "id": "d7b3212b",
      "metadata": {
        "_cell_guid": "b1076dfc-b9ad-4769-8c92-a6c4dae69d19",
        "_uuid": "8f2839f25d086af736a60e9eeb907d3b93b6e0e5",
        "execution": {
          "iopub.execute_input": "2022-02-27T19:14:22.922009Z",
          "iopub.status.busy": "2022-02-27T19:14:22.921034Z",
          "iopub.status.idle": "2022-02-27T19:15:23.320624Z",
          "shell.execute_reply": "2022-02-27T19:15:23.319749Z",
          "shell.execute_reply.started": "2022-02-27T19:04:42.912474Z"
        },
        "papermill": {
          "duration": 60.497893,
          "end_time": "2022-02-27T19:15:23.320795",
          "exception": false,
          "start_time": "2022-02-27T19:14:22.822902",
          "status": "completed"
        },
        "tags": [],
        "id": "d7b3212b"
      },
      "outputs": [],
      "source": [
        "%%capture\n",
        "!pip install transformers\n",
        "!pip install accelerate\n",
        "# # uncomment below cell to train on TPU's\n",
        "# #!pip install cloud-tpu-client==0.10 torch==1.9.0 https://storage.googleapis.com/tpu-pytorch/wheels/torch_xla-1.9-cp37-cp37m-linux_x86_64.whl\n",
        "# !pip install git+https://github.com/huggingface/accelerate\n",
        "!pip install ml_collections\n",
        "!pip install datasets\n",
        "# !pip install pandas-profiling[notebook]"
      ]
    },
    {
      "cell_type": "code",
      "execution_count": 2,
      "id": "41e8f0d4",
      "metadata": {
        "execution": {
          "iopub.execute_input": "2022-02-27T19:15:23.364519Z",
          "iopub.status.busy": "2022-02-27T19:15:23.363578Z",
          "iopub.status.idle": "2022-02-27T19:15:37.017241Z",
          "shell.execute_reply": "2022-02-27T19:15:37.016726Z",
          "shell.execute_reply.started": "2022-02-27T19:05:39.460685Z"
        },
        "papermill": {
          "duration": 13.67988,
          "end_time": "2022-02-27T19:15:37.017380",
          "exception": false,
          "start_time": "2022-02-27T19:15:23.337500",
          "status": "completed"
        },
        "tags": [],
        "colab": {
          "base_uri": "https://localhost:8080/"
        },
        "id": "41e8f0d4",
        "outputId": "001ff539-fe9f-4f70-fee8-84082d20173c"
      },
      "outputs": [
        {
          "output_type": "stream",
          "name": "stderr",
          "text": [
            "[nltk_data] Downloading package punkt to /root/nltk_data...\n",
            "[nltk_data]   Unzipping tokenizers/punkt.zip.\n",
            "[nltk_data] Downloading package wordnet to /root/nltk_data...\n"
          ]
        }
      ],
      "source": [
        "import numpy as np\n",
        "import pandas as pd\n",
        "import matplotlib.pyplot as plt\n",
        "import seaborn as sns\n",
        "\n",
        "import ml_collections\n",
        "import datasets\n",
        "import torch\n",
        "import transformers\n",
        "from accelerate import Accelerator, DistributedType\n",
        "from datasets import load_metric, Dataset, DatasetDict\n",
        "from torch.utils.data import DataLoader\n",
        "from tqdm.auto import tqdm\n",
        "from transformers import (\n",
        "    AutoModelForSequenceClassification,\n",
        "    AutoTokenizer,\n",
        "    get_linear_schedule_with_warmup,\n",
        "    set_seed,\n",
        ")\n",
        "\n",
        "from sklearn.model_selection import train_test_split\n",
        "from sklearn.preprocessing import LabelEncoder\n",
        "from sklearn.metrics import accuracy_score, classification_report, confusion_matrix, roc_auc_score, precision_score\n",
        "from sklearn.ensemble import RandomForestClassifier, AdaBoostClassifier, GradientBoostingClassifier\n",
        "from sklearn.svm import SVC\n",
        "from sklearn.tree import DecisionTreeClassifier\n",
        "from sklearn.neural_network import MLPClassifier\n",
        "from sklearn.naive_bayes import MultinomialNB\n",
        "\n",
        "from xgboost import XGBClassifier\n",
        "from lightgbm import LGBMClassifier\n",
        "from wordcloud import WordCloud, STOPWORDS\n",
        "import re,string, nltk\n",
        "nltk.download('punkt')\n",
        "nltk.download('wordnet')\n",
        "from nltk.stem.wordnet import WordNetLemmatizer\n",
        "from nltk import word_tokenize\n",
        "from sklearn.feature_extraction.text import TfidfVectorizer, CountVectorizer\n",
        "from nltk.stem.snowball import SnowballStemmer\n",
        "\n",
        "import warnings\n",
        "warnings.filterwarnings(action=\"ignore\")"
      ]
    },
    {
      "cell_type": "code",
      "source": [],
      "metadata": {
        "id": "cIwc9J4pnYUI"
      },
      "id": "cIwc9J4pnYUI",
      "execution_count": null,
      "outputs": []
    },
    {
      "cell_type": "code",
      "source": [
        "from google.colab import drive\n",
        "drive.mount('/content/drive/')"
      ],
      "metadata": {
        "colab": {
          "base_uri": "https://localhost:8080/"
        },
        "id": "hKlV_0vkXAkA",
        "outputId": "518f27fb-493f-4751-89e7-f507dbc25d76"
      },
      "id": "hKlV_0vkXAkA",
      "execution_count": 3,
      "outputs": [
        {
          "output_type": "stream",
          "name": "stdout",
          "text": [
            "Mounted at /content/drive/\n"
          ]
        }
      ]
    },
    {
      "cell_type": "code",
      "source": [
        "data_path =\"/content/drive/MyDrive/Dataset/stock.csv\""
      ],
      "metadata": {
        "id": "zKPg72J-XKTu"
      },
      "id": "zKPg72J-XKTu",
      "execution_count": 4,
      "outputs": []
    },
    {
      "cell_type": "markdown",
      "source": [
        "##EDA"
      ],
      "metadata": {
        "id": "J60mRTKcyLYk"
      },
      "id": "J60mRTKcyLYk"
    },
    {
      "cell_type": "code",
      "source": [
        "df = pd.read_csv(data_path)"
      ],
      "metadata": {
        "id": "reiwOPEMyYnQ"
      },
      "id": "reiwOPEMyYnQ",
      "execution_count": 38,
      "outputs": []
    },
    {
      "cell_type": "code",
      "source": [
        "df.head()"
      ],
      "metadata": {
        "colab": {
          "base_uri": "https://localhost:8080/",
          "height": 206
        },
        "id": "wXPBDgGoypEA",
        "outputId": "c081b464-d5db-456a-8e8f-2fff7b722e50"
      },
      "id": "wXPBDgGoypEA",
      "execution_count": 39,
      "outputs": [
        {
          "output_type": "execute_result",
          "data": {
            "text/plain": [
              "                                            Sentence Sentiment\n",
              "0  The GeoSolutions technology will leverage Bene...  positive\n",
              "1  $ESI on lows, down $1.50 to $2.50 BK a real po...  negative\n",
              "2  For the last quarter of 2010 , Componenta 's n...  positive\n",
              "3  According to the Finnish-Russian Chamber of Co...   neutral\n",
              "4  The Swedish buyout firm has sold its remaining...   neutral"
            ],
            "text/html": [
              "\n",
              "  <div id=\"df-a441bcf7-0e20-4920-88f4-c63e805f73ab\">\n",
              "    <div class=\"colab-df-container\">\n",
              "      <div>\n",
              "<style scoped>\n",
              "    .dataframe tbody tr th:only-of-type {\n",
              "        vertical-align: middle;\n",
              "    }\n",
              "\n",
              "    .dataframe tbody tr th {\n",
              "        vertical-align: top;\n",
              "    }\n",
              "\n",
              "    .dataframe thead th {\n",
              "        text-align: right;\n",
              "    }\n",
              "</style>\n",
              "<table border=\"1\" class=\"dataframe\">\n",
              "  <thead>\n",
              "    <tr style=\"text-align: right;\">\n",
              "      <th></th>\n",
              "      <th>Sentence</th>\n",
              "      <th>Sentiment</th>\n",
              "    </tr>\n",
              "  </thead>\n",
              "  <tbody>\n",
              "    <tr>\n",
              "      <th>0</th>\n",
              "      <td>The GeoSolutions technology will leverage Bene...</td>\n",
              "      <td>positive</td>\n",
              "    </tr>\n",
              "    <tr>\n",
              "      <th>1</th>\n",
              "      <td>$ESI on lows, down $1.50 to $2.50 BK a real po...</td>\n",
              "      <td>negative</td>\n",
              "    </tr>\n",
              "    <tr>\n",
              "      <th>2</th>\n",
              "      <td>For the last quarter of 2010 , Componenta 's n...</td>\n",
              "      <td>positive</td>\n",
              "    </tr>\n",
              "    <tr>\n",
              "      <th>3</th>\n",
              "      <td>According to the Finnish-Russian Chamber of Co...</td>\n",
              "      <td>neutral</td>\n",
              "    </tr>\n",
              "    <tr>\n",
              "      <th>4</th>\n",
              "      <td>The Swedish buyout firm has sold its remaining...</td>\n",
              "      <td>neutral</td>\n",
              "    </tr>\n",
              "  </tbody>\n",
              "</table>\n",
              "</div>\n",
              "      <button class=\"colab-df-convert\" onclick=\"convertToInteractive('df-a441bcf7-0e20-4920-88f4-c63e805f73ab')\"\n",
              "              title=\"Convert this dataframe to an interactive table.\"\n",
              "              style=\"display:none;\">\n",
              "        \n",
              "  <svg xmlns=\"http://www.w3.org/2000/svg\" height=\"24px\"viewBox=\"0 0 24 24\"\n",
              "       width=\"24px\">\n",
              "    <path d=\"M0 0h24v24H0V0z\" fill=\"none\"/>\n",
              "    <path d=\"M18.56 5.44l.94 2.06.94-2.06 2.06-.94-2.06-.94-.94-2.06-.94 2.06-2.06.94zm-11 1L8.5 8.5l.94-2.06 2.06-.94-2.06-.94L8.5 2.5l-.94 2.06-2.06.94zm10 10l.94 2.06.94-2.06 2.06-.94-2.06-.94-.94-2.06-.94 2.06-2.06.94z\"/><path d=\"M17.41 7.96l-1.37-1.37c-.4-.4-.92-.59-1.43-.59-.52 0-1.04.2-1.43.59L10.3 9.45l-7.72 7.72c-.78.78-.78 2.05 0 2.83L4 21.41c.39.39.9.59 1.41.59.51 0 1.02-.2 1.41-.59l7.78-7.78 2.81-2.81c.8-.78.8-2.07 0-2.86zM5.41 20L4 18.59l7.72-7.72 1.47 1.35L5.41 20z\"/>\n",
              "  </svg>\n",
              "      </button>\n",
              "      \n",
              "  <style>\n",
              "    .colab-df-container {\n",
              "      display:flex;\n",
              "      flex-wrap:wrap;\n",
              "      gap: 12px;\n",
              "    }\n",
              "\n",
              "    .colab-df-convert {\n",
              "      background-color: #E8F0FE;\n",
              "      border: none;\n",
              "      border-radius: 50%;\n",
              "      cursor: pointer;\n",
              "      display: none;\n",
              "      fill: #1967D2;\n",
              "      height: 32px;\n",
              "      padding: 0 0 0 0;\n",
              "      width: 32px;\n",
              "    }\n",
              "\n",
              "    .colab-df-convert:hover {\n",
              "      background-color: #E2EBFA;\n",
              "      box-shadow: 0px 1px 2px rgba(60, 64, 67, 0.3), 0px 1px 3px 1px rgba(60, 64, 67, 0.15);\n",
              "      fill: #174EA6;\n",
              "    }\n",
              "\n",
              "    [theme=dark] .colab-df-convert {\n",
              "      background-color: #3B4455;\n",
              "      fill: #D2E3FC;\n",
              "    }\n",
              "\n",
              "    [theme=dark] .colab-df-convert:hover {\n",
              "      background-color: #434B5C;\n",
              "      box-shadow: 0px 1px 3px 1px rgba(0, 0, 0, 0.15);\n",
              "      filter: drop-shadow(0px 1px 2px rgba(0, 0, 0, 0.3));\n",
              "      fill: #FFFFFF;\n",
              "    }\n",
              "  </style>\n",
              "\n",
              "      <script>\n",
              "        const buttonEl =\n",
              "          document.querySelector('#df-a441bcf7-0e20-4920-88f4-c63e805f73ab button.colab-df-convert');\n",
              "        buttonEl.style.display =\n",
              "          google.colab.kernel.accessAllowed ? 'block' : 'none';\n",
              "\n",
              "        async function convertToInteractive(key) {\n",
              "          const element = document.querySelector('#df-a441bcf7-0e20-4920-88f4-c63e805f73ab');\n",
              "          const dataTable =\n",
              "            await google.colab.kernel.invokeFunction('convertToInteractive',\n",
              "                                                     [key], {});\n",
              "          if (!dataTable) return;\n",
              "\n",
              "          const docLinkHtml = 'Like what you see? Visit the ' +\n",
              "            '<a target=\"_blank\" href=https://colab.research.google.com/notebooks/data_table.ipynb>data table notebook</a>'\n",
              "            + ' to learn more about interactive tables.';\n",
              "          element.innerHTML = '';\n",
              "          dataTable['output_type'] = 'display_data';\n",
              "          await google.colab.output.renderOutput(dataTable, element);\n",
              "          const docLink = document.createElement('div');\n",
              "          docLink.innerHTML = docLinkHtml;\n",
              "          element.appendChild(docLink);\n",
              "        }\n",
              "      </script>\n",
              "    </div>\n",
              "  </div>\n",
              "  "
            ]
          },
          "metadata": {},
          "execution_count": 39
        }
      ]
    },
    {
      "cell_type": "code",
      "source": [
        "df.shape"
      ],
      "metadata": {
        "colab": {
          "base_uri": "https://localhost:8080/"
        },
        "id": "K3kqzi9Pyydv",
        "outputId": "071545bd-0061-4a9b-d671-9afaef984b84"
      },
      "id": "K3kqzi9Pyydv",
      "execution_count": 40,
      "outputs": [
        {
          "output_type": "execute_result",
          "data": {
            "text/plain": [
              "(5842, 2)"
            ]
          },
          "metadata": {},
          "execution_count": 40
        }
      ]
    },
    {
      "cell_type": "code",
      "source": [
        "df.info()"
      ],
      "metadata": {
        "colab": {
          "base_uri": "https://localhost:8080/"
        },
        "id": "J7-ohzv7y0JL",
        "outputId": "66a55625-ea33-4b99-8d3c-fa18c1d2cfc3"
      },
      "id": "J7-ohzv7y0JL",
      "execution_count": 41,
      "outputs": [
        {
          "output_type": "stream",
          "name": "stdout",
          "text": [
            "<class 'pandas.core.frame.DataFrame'>\n",
            "RangeIndex: 5842 entries, 0 to 5841\n",
            "Data columns (total 2 columns):\n",
            " #   Column     Non-Null Count  Dtype \n",
            "---  ------     --------------  ----- \n",
            " 0   Sentence   5842 non-null   object\n",
            " 1   Sentiment  5842 non-null   object\n",
            "dtypes: object(2)\n",
            "memory usage: 91.4+ KB\n"
          ]
        }
      ]
    },
    {
      "cell_type": "code",
      "source": [
        "df.describe()"
      ],
      "metadata": {
        "colab": {
          "base_uri": "https://localhost:8080/",
          "height": 175
        },
        "id": "t3Oyqqdqy7FF",
        "outputId": "b8c256aa-ce46-4664-b69c-e647d176c0c2"
      },
      "id": "t3Oyqqdqy7FF",
      "execution_count": 42,
      "outputs": [
        {
          "output_type": "execute_result",
          "data": {
            "text/plain": [
              "                                                 Sentence Sentiment\n",
              "count                                                5842      5842\n",
              "unique                                               5322         3\n",
              "top     Managing Director 's comments : `` Net sales f...   neutral\n",
              "freq                                                    2      3130"
            ],
            "text/html": [
              "\n",
              "  <div id=\"df-07538f86-1222-4bb5-b400-6b988f3c05d6\">\n",
              "    <div class=\"colab-df-container\">\n",
              "      <div>\n",
              "<style scoped>\n",
              "    .dataframe tbody tr th:only-of-type {\n",
              "        vertical-align: middle;\n",
              "    }\n",
              "\n",
              "    .dataframe tbody tr th {\n",
              "        vertical-align: top;\n",
              "    }\n",
              "\n",
              "    .dataframe thead th {\n",
              "        text-align: right;\n",
              "    }\n",
              "</style>\n",
              "<table border=\"1\" class=\"dataframe\">\n",
              "  <thead>\n",
              "    <tr style=\"text-align: right;\">\n",
              "      <th></th>\n",
              "      <th>Sentence</th>\n",
              "      <th>Sentiment</th>\n",
              "    </tr>\n",
              "  </thead>\n",
              "  <tbody>\n",
              "    <tr>\n",
              "      <th>count</th>\n",
              "      <td>5842</td>\n",
              "      <td>5842</td>\n",
              "    </tr>\n",
              "    <tr>\n",
              "      <th>unique</th>\n",
              "      <td>5322</td>\n",
              "      <td>3</td>\n",
              "    </tr>\n",
              "    <tr>\n",
              "      <th>top</th>\n",
              "      <td>Managing Director 's comments : `` Net sales f...</td>\n",
              "      <td>neutral</td>\n",
              "    </tr>\n",
              "    <tr>\n",
              "      <th>freq</th>\n",
              "      <td>2</td>\n",
              "      <td>3130</td>\n",
              "    </tr>\n",
              "  </tbody>\n",
              "</table>\n",
              "</div>\n",
              "      <button class=\"colab-df-convert\" onclick=\"convertToInteractive('df-07538f86-1222-4bb5-b400-6b988f3c05d6')\"\n",
              "              title=\"Convert this dataframe to an interactive table.\"\n",
              "              style=\"display:none;\">\n",
              "        \n",
              "  <svg xmlns=\"http://www.w3.org/2000/svg\" height=\"24px\"viewBox=\"0 0 24 24\"\n",
              "       width=\"24px\">\n",
              "    <path d=\"M0 0h24v24H0V0z\" fill=\"none\"/>\n",
              "    <path d=\"M18.56 5.44l.94 2.06.94-2.06 2.06-.94-2.06-.94-.94-2.06-.94 2.06-2.06.94zm-11 1L8.5 8.5l.94-2.06 2.06-.94-2.06-.94L8.5 2.5l-.94 2.06-2.06.94zm10 10l.94 2.06.94-2.06 2.06-.94-2.06-.94-.94-2.06-.94 2.06-2.06.94z\"/><path d=\"M17.41 7.96l-1.37-1.37c-.4-.4-.92-.59-1.43-.59-.52 0-1.04.2-1.43.59L10.3 9.45l-7.72 7.72c-.78.78-.78 2.05 0 2.83L4 21.41c.39.39.9.59 1.41.59.51 0 1.02-.2 1.41-.59l7.78-7.78 2.81-2.81c.8-.78.8-2.07 0-2.86zM5.41 20L4 18.59l7.72-7.72 1.47 1.35L5.41 20z\"/>\n",
              "  </svg>\n",
              "      </button>\n",
              "      \n",
              "  <style>\n",
              "    .colab-df-container {\n",
              "      display:flex;\n",
              "      flex-wrap:wrap;\n",
              "      gap: 12px;\n",
              "    }\n",
              "\n",
              "    .colab-df-convert {\n",
              "      background-color: #E8F0FE;\n",
              "      border: none;\n",
              "      border-radius: 50%;\n",
              "      cursor: pointer;\n",
              "      display: none;\n",
              "      fill: #1967D2;\n",
              "      height: 32px;\n",
              "      padding: 0 0 0 0;\n",
              "      width: 32px;\n",
              "    }\n",
              "\n",
              "    .colab-df-convert:hover {\n",
              "      background-color: #E2EBFA;\n",
              "      box-shadow: 0px 1px 2px rgba(60, 64, 67, 0.3), 0px 1px 3px 1px rgba(60, 64, 67, 0.15);\n",
              "      fill: #174EA6;\n",
              "    }\n",
              "\n",
              "    [theme=dark] .colab-df-convert {\n",
              "      background-color: #3B4455;\n",
              "      fill: #D2E3FC;\n",
              "    }\n",
              "\n",
              "    [theme=dark] .colab-df-convert:hover {\n",
              "      background-color: #434B5C;\n",
              "      box-shadow: 0px 1px 3px 1px rgba(0, 0, 0, 0.15);\n",
              "      filter: drop-shadow(0px 1px 2px rgba(0, 0, 0, 0.3));\n",
              "      fill: #FFFFFF;\n",
              "    }\n",
              "  </style>\n",
              "\n",
              "      <script>\n",
              "        const buttonEl =\n",
              "          document.querySelector('#df-07538f86-1222-4bb5-b400-6b988f3c05d6 button.colab-df-convert');\n",
              "        buttonEl.style.display =\n",
              "          google.colab.kernel.accessAllowed ? 'block' : 'none';\n",
              "\n",
              "        async function convertToInteractive(key) {\n",
              "          const element = document.querySelector('#df-07538f86-1222-4bb5-b400-6b988f3c05d6');\n",
              "          const dataTable =\n",
              "            await google.colab.kernel.invokeFunction('convertToInteractive',\n",
              "                                                     [key], {});\n",
              "          if (!dataTable) return;\n",
              "\n",
              "          const docLinkHtml = 'Like what you see? Visit the ' +\n",
              "            '<a target=\"_blank\" href=https://colab.research.google.com/notebooks/data_table.ipynb>data table notebook</a>'\n",
              "            + ' to learn more about interactive tables.';\n",
              "          element.innerHTML = '';\n",
              "          dataTable['output_type'] = 'display_data';\n",
              "          await google.colab.output.renderOutput(dataTable, element);\n",
              "          const docLink = document.createElement('div');\n",
              "          docLink.innerHTML = docLinkHtml;\n",
              "          element.appendChild(docLink);\n",
              "        }\n",
              "      </script>\n",
              "    </div>\n",
              "  </div>\n",
              "  "
            ]
          },
          "metadata": {},
          "execution_count": 42
        }
      ]
    },
    {
      "cell_type": "code",
      "source": [
        "df.dtypes"
      ],
      "metadata": {
        "colab": {
          "base_uri": "https://localhost:8080/"
        },
        "id": "O_sku5SGy9TO",
        "outputId": "c64194ed-6f84-4c56-942a-758e80a2b4e4"
      },
      "id": "O_sku5SGy9TO",
      "execution_count": 43,
      "outputs": [
        {
          "output_type": "execute_result",
          "data": {
            "text/plain": [
              "Sentence     object\n",
              "Sentiment    object\n",
              "dtype: object"
            ]
          },
          "metadata": {},
          "execution_count": 43
        }
      ]
    },
    {
      "cell_type": "markdown",
      "source": [
        "**Check duplicate**"
      ],
      "metadata": {
        "id": "9I0i8pUXzjCe"
      },
      "id": "9I0i8pUXzjCe"
    },
    {
      "cell_type": "code",
      "source": [
        " #Check duplicate data\n",
        " df_duplicate = df[df['Sentence'].duplicated()]\n",
        " print(\"No of duplicate data are: \", len(df_duplicate))\n",
        " print(\"duplicate datas are: \",df_duplicate)\n"
      ],
      "metadata": {
        "colab": {
          "base_uri": "https://localhost:8080/"
        },
        "id": "6eLQBCMKzCVD",
        "outputId": "6717b00e-00a4-4f1a-b102-3133911c097c"
      },
      "id": "6eLQBCMKzCVD",
      "execution_count": 49,
      "outputs": [
        {
          "output_type": "stream",
          "name": "stdout",
          "text": [
            "No of duplicate data are:  520\n",
            "duplicate datas are:                                                 Sentence Sentiment\n",
            "266   Finnish GeoSentric 's net sales decreased to E...   neutral\n",
            "283   Sales in Finland decreased by 10.5 % in Januar...  negative\n",
            "349   Full-year operating result for 2008 was 3.6 mi...  negative\n",
            "387   Making matters more difficult , the company sa...  negative\n",
            "496   Antti Orkola , president of Kemira GrowHow 's ...  negative\n",
            "...                                                 ...       ...\n",
            "5827  ( ADPnews ) - Oct 21 , 2009 - Finland-based IT...  negative\n",
            "5831  Finnish developer and manufacturer of mobile p...  negative\n",
            "5832  Operating profit fell to EUR 38.1 mn from EUR ...  negative\n",
            "5837  RISING costs have forced packaging producer Hu...  negative\n",
            "5840  In the building and home improvement trade , s...   neutral\n",
            "\n",
            "[520 rows x 2 columns]\n"
          ]
        }
      ]
    },
    {
      "cell_type": "markdown",
      "source": [
        "**Check missing value**"
      ],
      "metadata": {
        "id": "-tjnl3bjzkxr"
      },
      "id": "-tjnl3bjzkxr"
    },
    {
      "cell_type": "code",
      "source": [
        "df.isnull().sum()"
      ],
      "metadata": {
        "colab": {
          "base_uri": "https://localhost:8080/"
        },
        "id": "ibKi6UfAze3C",
        "outputId": "0cc5c42a-fb94-4987-e867-8c2365d11fd5"
      },
      "id": "ibKi6UfAze3C",
      "execution_count": 50,
      "outputs": [
        {
          "output_type": "execute_result",
          "data": {
            "text/plain": [
              "Sentence     0\n",
              "Sentiment    0\n",
              "dtype: int64"
            ]
          },
          "metadata": {},
          "execution_count": 50
        }
      ]
    },
    {
      "cell_type": "markdown",
      "source": [
        "**Check Dataset balanced or imbalanced**"
      ],
      "metadata": {
        "id": "YRWAscZJzxoA"
      },
      "id": "YRWAscZJzxoA"
    },
    {
      "cell_type": "code",
      "source": [
        "df['Sentiment'].value_counts()"
      ],
      "metadata": {
        "colab": {
          "base_uri": "https://localhost:8080/"
        },
        "id": "TzgVe7JjztF5",
        "outputId": "3fb090eb-b99b-4e20-ea6e-d2de3bfde5e4"
      },
      "id": "TzgVe7JjztF5",
      "execution_count": 51,
      "outputs": [
        {
          "output_type": "execute_result",
          "data": {
            "text/plain": [
              "neutral     3130\n",
              "positive    1852\n",
              "negative     860\n",
              "Name: Sentiment, dtype: int64"
            ]
          },
          "metadata": {},
          "execution_count": 51
        }
      ]
    },
    {
      "cell_type": "markdown",
      "source": [
        "**Sentence length analysis**"
      ],
      "metadata": {
        "id": "Bir9ALpa0ICl"
      },
      "id": "Bir9ALpa0ICl"
    },
    {
      "cell_type": "code",
      "source": [
        "#Review length analysis\n",
        "import seaborn as sns\n",
        "import matplotlib.pyplot as plt\n",
        "rev_len = [len(i) for i in df['Sentence']]\n",
        "pd.Series(rev_len).hist()\n",
        "plt.show()\n",
        "pd.Series(rev_len).describe()"
      ],
      "metadata": {
        "colab": {
          "base_uri": "https://localhost:8080/",
          "height": 586
        },
        "id": "ONVhZ4z00Gg4",
        "outputId": "a890615e-d184-4899-cf16-89289edeced6"
      },
      "id": "ONVhZ4z00Gg4",
      "execution_count": 48,
      "outputs": [
        {
          "output_type": "display_data",
          "data": {
            "text/plain": [
              "<Figure size 640x480 with 1 Axes>"
            ],
            "image/png": "[encoded data removed]"
          },
          "metadata": {}
        },
        {
          "output_type": "execute_result",
          "data": {
            "text/plain": [
              "count    5842.000000\n",
              "mean      117.022253\n",
              "std        56.420425\n",
              "min         9.000000\n",
              "25%        72.000000\n",
              "50%       107.000000\n",
              "75%       150.000000\n",
              "max       315.000000\n",
              "dtype: float64"
            ]
          },
          "metadata": {},
          "execution_count": 48
        }
      ]
    },
    {
      "cell_type": "markdown",
      "id": "c848c60b",
      "metadata": {
        "papermill": {
          "duration": 0.016716,
          "end_time": "2022-02-27T19:15:37.101030",
          "exception": false,
          "start_time": "2022-02-27T19:15:37.084314",
          "status": "completed"
        },
        "tags": [],
        "id": "c848c60b"
      },
      "source": [
        "## Preprocessing"
      ]
    },
    {
      "cell_type": "code",
      "execution_count": 7,
      "id": "94d8a53b",
      "metadata": {
        "execution": {
          "iopub.execute_input": "2022-02-27T19:15:37.181340Z",
          "iopub.status.busy": "2022-02-27T19:15:37.180495Z",
          "iopub.status.idle": "2022-02-27T19:15:37.182569Z",
          "shell.execute_reply": "2022-02-27T19:15:37.182966Z",
          "shell.execute_reply.started": "2022-02-27T19:05:53.292507Z"
        },
        "papermill": {
          "duration": 0.031434,
          "end_time": "2022-02-27T19:15:37.183111",
          "exception": false,
          "start_time": "2022-02-27T19:15:37.151677",
          "status": "completed"
        },
        "tags": [],
        "id": "94d8a53b"
      },
      "outputs": [],
      "source": [
        "def clean_text(df,field):\n",
        "    df[field] = df[field].str.replace(r\"http\\S+\",\" \")\n",
        "    df[field] = df[field].str.replace(r\"http\",\" \")\n",
        "    df[field] = df[field].str.replace(r\"@\",\"at\")\n",
        "    df[field] = df[field].str.replace(\"#[A-Za-z0-9_]+\", ' ')\n",
        "    df[field] = df[field].str.replace(r\"[^A-Za-z(),!?@\\'\\\"_\\n]\",\" \")\n",
        "    df[field] = df[field].str.lower()\n",
        "    return df\n",
        "\n",
        "lemmatizer = WordNetLemmatizer()\n",
        "stemmer = SnowballStemmer(\"english\")\n",
        "STOPWORDS.update(['rt', 'mkr', 'didn', 'bc', 'n', 'm','im', 'll', 'y', 've',\n",
        "                      'u', 'ur', 'don','p', 't', 's', 'aren', 'kp', 'o', 'kat',\n",
        "                      'de', 're', 'amp', 'will'])\n",
        "\n",
        "def preprocess_text(text):\n",
        "    text = re.sub(r\"won\\'t\", \"will not\", text)\n",
        "    text = re.sub(r\"can\\'t\", \"can not\", text)\n",
        "    text = re.sub(r\"n\\'t\", \" not\", text)\n",
        "    text = re.sub(r\"\\'re\", \" are\", text)\n",
        "    text = re.sub(r\"\\'s\", \" is\", text)\n",
        "    text = re.sub(r\"\\'d\", \" would\",text)\n",
        "    text = re.sub(r\"\\'ll\", \" will\", text)\n",
        "    text = re.sub(r\"\\'t\", \" not\", text)\n",
        "    text = re.sub(r\"\\'ve\", \" have\", text)\n",
        "    text = re.sub(r\"\\'m\", \" am\", text)\n",
        "    text = re.sub('[^a-zA-Z]',' ',text)\n",
        "    text = re.sub(r'[^\\x00-\\x7f]','',text)\n",
        "    text = \" \".join([stemmer.stem(word) for word in text.split()])\n",
        "    text = [lemmatizer.lemmatize(word) for word in text.split() if not word in set(STOPWORDS)]\n",
        "    text = ' '.join(text)\n",
        "    return text\n"
      ]
    },
    {
      "cell_type": "code",
      "execution_count": 8,
      "id": "e2033cf9",
      "metadata": {
        "execution": {
          "iopub.execute_input": "2022-02-27T19:15:37.223416Z",
          "iopub.status.busy": "2022-02-27T19:15:37.222649Z",
          "iopub.status.idle": "2022-02-27T19:15:37.225072Z",
          "shell.execute_reply": "2022-02-27T19:15:37.225481Z",
          "shell.execute_reply.started": "2022-02-27T19:05:53.308438Z"
        },
        "papermill": {
          "duration": 0.025805,
          "end_time": "2022-02-27T19:15:37.225620",
          "exception": false,
          "start_time": "2022-02-27T19:15:37.199815",
          "status": "completed"
        },
        "tags": [],
        "id": "e2033cf9"
      },
      "outputs": [],
      "source": [
        "def preprocess_csv(df):\n",
        "    # df=df[:50]\n",
        "    print(\"df.shape\",df.shape)\n",
        "\n",
        "    labelencoder = LabelEncoder()\n",
        "    df[\"label_enc\"] = labelencoder.fit_transform(df[\"Sentiment\"])\n",
        "    df.rename(columns={\"label\": \"label_desc\"}, inplace=True)\n",
        "    df.rename(columns={\"label_enc\": \"labels\"}, inplace=True)\n",
        "    df.drop_duplicates(subset=['Sentence'],keep='first',inplace=True)\n",
        "\n",
        "    cleaned_df = clean_text(df, \"Sentence\")\n",
        "    cleaned_df[\"Sentence\"] = cleaned_df[\"Sentence\"].apply(preprocess_text)\n",
        "    return cleaned_df"
      ]
    },
    {
      "cell_type": "code",
      "source": [
        "df = pd.read_csv(data_path)\n",
        "df=preprocess_csv(df)"
      ],
      "metadata": {
        "colab": {
          "base_uri": "https://localhost:8080/"
        },
        "id": "F_xRzTiNycN4",
        "outputId": "5a0414d3-a0e2-483b-a0f8-b3cc4eb1477f"
      },
      "id": "F_xRzTiNycN4",
      "execution_count": 9,
      "outputs": [
        {
          "output_type": "stream",
          "name": "stdout",
          "text": [
            "df.shape (5842, 2)\n"
          ]
        }
      ]
    },
    {
      "cell_type": "code",
      "execution_count": 8,
      "id": "0cede01b",
      "metadata": {
        "execution": {
          "iopub.execute_input": "2022-02-27T19:15:37.066200Z",
          "iopub.status.busy": "2022-02-27T19:15:37.064559Z",
          "iopub.status.idle": "2022-02-27T19:15:37.066775Z",
          "shell.execute_reply": "2022-02-27T19:15:37.067204Z",
          "shell.execute_reply.started": "2022-02-27T19:05:53.277252Z"
        },
        "papermill": {
          "duration": 0.030863,
          "end_time": "2022-02-27T19:15:37.067342",
          "exception": false,
          "start_time": "2022-02-27T19:15:37.036479",
          "status": "completed"
        },
        "tags": [],
        "id": "0cede01b"
      },
      "outputs": [],
      "source": [
        "# Setting up the model hyperparameters\n",
        "\n",
        "model_path= \"bert_model.h5\"\n",
        "\n",
        "test_size= 0.1\n",
        "validation_size=0.2\n",
        "train_batch_size= 32\n",
        "eval_batch_size= 32\n",
        "\n",
        "epochs= 5\n",
        "adam_epsilon= 1e-8\n",
        "lr= 3e-5\n",
        "\n",
        "max_length= 140\n",
        "random_seed= 42\n",
        "num_labels= 3\n",
        "model_checkpoint=\"roberta-base\""
      ]
    },
    {
      "cell_type": "code",
      "source": [
        "df = pd.read_csv(data_path)\n",
        "df=preprocess_csv(df)\n",
        "# df.to_csv(\"/content/drive/MyDrive/Dataset/preprocessed_stock.csv\",index=False)"
      ],
      "metadata": {
        "colab": {
          "base_uri": "https://localhost:8080/"
        },
        "id": "D88iVjuz3fAq",
        "outputId": "e513d82e-981f-4c28-ee9c-9b74cb04a462"
      },
      "id": "D88iVjuz3fAq",
      "execution_count": 10,
      "outputs": [
        {
          "output_type": "stream",
          "name": "stdout",
          "text": [
            "df.shape (5842, 2)\n"
          ]
        }
      ]
    },
    {
      "cell_type": "markdown",
      "id": "f3f13c78",
      "metadata": {
        "papermill": {
          "duration": 0.042997,
          "end_time": "2022-02-27T19:15:46.187115",
          "exception": false,
          "start_time": "2022-02-27T19:15:46.144118",
          "status": "completed"
        },
        "tags": [],
        "id": "f3f13c78"
      },
      "source": [
        "## ML Based Approach"
      ]
    },
    {
      "cell_type": "code",
      "source": [
        "# df=pd.read_csv(\"/content/drive/MyDrive/Dataset/preprocessed_stock.csv\")"
      ],
      "metadata": {
        "id": "FIcd--km30KA"
      },
      "id": "FIcd--km30KA",
      "execution_count": 71,
      "outputs": []
    },
    {
      "cell_type": "code",
      "execution_count": 11,
      "id": "db8ddc60",
      "metadata": {
        "execution": {
          "iopub.execute_input": "2022-02-27T19:15:46.281841Z",
          "iopub.status.busy": "2022-02-27T19:15:46.279298Z",
          "iopub.status.idle": "2022-02-27T19:15:46.284850Z",
          "shell.execute_reply": "2022-02-27T19:15:46.284454Z",
          "shell.execute_reply.started": "2022-02-27T19:06:02.044257Z"
        },
        "papermill": {
          "duration": 0.054393,
          "end_time": "2022-02-27T19:15:46.284961",
          "exception": false,
          "start_time": "2022-02-27T19:15:46.230568",
          "status": "completed"
        },
        "tags": [],
        "id": "db8ddc60"
      },
      "outputs": [],
      "source": [
        "X_train, X_test, y_train, y_test = train_test_split(np.array(df[\"Sentence\"]),np.array(df[\"Sentiment\"]), test_size=0.10, random_state=42)"
      ]
    },
    {
      "cell_type": "code",
      "execution_count": 12,
      "id": "406fb512",
      "metadata": {
        "execution": {
          "iopub.execute_input": "2022-02-27T19:15:46.379473Z",
          "iopub.status.busy": "2022-02-27T19:15:46.378614Z",
          "iopub.status.idle": "2022-02-27T19:15:47.955119Z",
          "shell.execute_reply": "2022-02-27T19:15:47.956118Z",
          "shell.execute_reply.started": "2022-02-27T19:06:02.055672Z"
        },
        "papermill": {
          "duration": 1.626435,
          "end_time": "2022-02-27T19:15:47.956323",
          "exception": false,
          "start_time": "2022-02-27T19:15:46.329888",
          "status": "completed"
        },
        "tags": [],
        "id": "406fb512",
        "outputId": "39bbeb20-ffd6-4a35-894b-7a93724770d7",
        "colab": {
          "base_uri": "https://localhost:8080/"
        }
      },
      "outputs": [
        {
          "output_type": "stream",
          "name": "stdout",
          "text": [
            "TF_IDF Model: Train features shape:(4789, 7048) and Test features shape:(533, 7048)\n"
          ]
        }
      ],
      "source": [
        "tfidf = TfidfVectorizer(use_idf=True, tokenizer=word_tokenize,min_df=0.00002,max_df=0.70)\n",
        "X_train_tf = tfidf.fit_transform(X_train.astype('U'))\n",
        "X_test_tf = tfidf.transform(X_test.astype('U'))\n",
        "\n",
        "print(f\"TF_IDF Model: Train features shape:{X_train_tf.shape} and Test features shape:{X_test_tf.shape}\")"
      ]
    },
    {
      "cell_type": "code",
      "source": [
        "def fit_model(algo,x_train,y_train,x_test, y_test):\n",
        "    algo.fit(x_train,y_train)\n",
        "    y_pred = algo.predict(x_test)\n",
        "    accuracy = accuracy_score(y_pred, y_test)\n",
        "    return accuracy"
      ],
      "metadata": {
        "id": "GE35B4y01uFd"
      },
      "id": "GE35B4y01uFd",
      "execution_count": 13,
      "outputs": []
    },
    {
      "cell_type": "code",
      "source": [
        "accuracys = {}"
      ],
      "metadata": {
        "id": "mqMUlFo-11hb"
      },
      "id": "mqMUlFo-11hb",
      "execution_count": 14,
      "outputs": []
    },
    {
      "cell_type": "code",
      "source": [
        "rf = RandomForestClassifier(random_state=42)\n",
        "curr_acc = fit_model(rf,X_train_tf,y_train,X_test_tf,y_test)\n",
        "print(\"curr_acc: \",curr_acc)\n",
        "accuracys[f\"Random Forest\"]=curr_acc"
      ],
      "metadata": {
        "colab": {
          "base_uri": "https://localhost:8080/"
        },
        "id": "W90FMtnP13E8",
        "outputId": "7dfdc24d-e6a7-4785-8e4c-085292340f62"
      },
      "id": "W90FMtnP13E8",
      "execution_count": 15,
      "outputs": [
        {
          "output_type": "stream",
          "name": "stdout",
          "text": [
            "curr_acc:  0.7354596622889306\n"
          ]
        }
      ]
    },
    {
      "cell_type": "code",
      "source": [
        "gb = GradientBoostingClassifier(random_state=42)\n",
        "curr_acc = fit_model(gb,X_train_tf,y_train,X_test_tf,y_test)\n",
        "print(\"curr_acc: \",curr_acc)\n",
        "accuracys[f\"Gradient Boosting\"]=curr_acc"
      ],
      "metadata": {
        "colab": {
          "base_uri": "https://localhost:8080/"
        },
        "id": "1qGIFElD9N78",
        "outputId": "51761f91-0d52-4e03-aaf8-79cc85d3415a"
      },
      "id": "1qGIFElD9N78",
      "execution_count": 16,
      "outputs": [
        {
          "output_type": "stream",
          "name": "stdout",
          "text": [
            "curr_acc:  0.7054409005628518\n"
          ]
        }
      ]
    },
    {
      "cell_type": "code",
      "source": [
        "dt = DecisionTreeClassifier(random_state=42)\n",
        "curr_acc = fit_model(dt,X_train_tf,y_train,X_test_tf,y_test)\n",
        "print(\"curr_acc: \",curr_acc)\n",
        "accuracys[f\"DecisionTree\"]=curr_acc"
      ],
      "metadata": {
        "colab": {
          "base_uri": "https://localhost:8080/"
        },
        "id": "-Bg6Aimw9Qnj",
        "outputId": "d9f89e48-32aa-4d20-a5ba-ba8e56136562"
      },
      "id": "-Bg6Aimw9Qnj",
      "execution_count": 17,
      "outputs": [
        {
          "output_type": "stream",
          "name": "stdout",
          "text": [
            "curr_acc:  0.7054409005628518\n"
          ]
        }
      ]
    },
    {
      "cell_type": "code",
      "source": [
        "svc = SVC(random_state=42)\n",
        "curr_acc = fit_model(svc,X_train_tf,y_train,X_test_tf,y_test)\n",
        "print(\"curr_acc: \",curr_acc)\n",
        "accuracys[f\"SVC\"]=curr_acc"
      ],
      "metadata": {
        "colab": {
          "base_uri": "https://localhost:8080/"
        },
        "id": "Rxinw-9M9Txb",
        "outputId": "c0a0df55-c9ae-40ba-b09d-aa4c3d3b011b"
      },
      "id": "Rxinw-9M9Txb",
      "execution_count": 18,
      "outputs": [
        {
          "output_type": "stream",
          "name": "stdout",
          "text": [
            "curr_acc:  0.7617260787992496\n"
          ]
        }
      ]
    },
    {
      "cell_type": "code",
      "source": [
        "nb = MultinomialNB()\n",
        "curr_acc = fit_model(nb,X_train_tf,y_train,X_test_tf,y_test)\n",
        "print(\"curr_acc: \",curr_acc)\n",
        "accuracys[f\"MultinomialNB\"]=curr_acc"
      ],
      "metadata": {
        "colab": {
          "base_uri": "https://localhost:8080/"
        },
        "id": "F3O_DJOR9XJq",
        "outputId": "39cbe95b-2021-4d67-aad6-9b354cad03c6"
      },
      "id": "F3O_DJOR9XJq",
      "execution_count": 20,
      "outputs": [
        {
          "output_type": "stream",
          "name": "stdout",
          "text": [
            "curr_acc:  0.7148217636022514\n"
          ]
        }
      ]
    },
    {
      "cell_type": "code",
      "source": [
        "mlp = MLPClassifier(random_state=42)\n",
        "curr_acc = fit_model(mlp,X_train_tf,y_train,X_test_tf,y_test)\n",
        "print(\"curr_acc: \",curr_acc)\n",
        "accuracys[f\"MLPClassifier\"]=curr_acc"
      ],
      "metadata": {
        "colab": {
          "base_uri": "https://localhost:8080/"
        },
        "id": "fGFraa8b9bN3",
        "outputId": "cfc6fe09-5a78-4abf-aec4-05bbc9483d83"
      },
      "id": "fGFraa8b9bN3",
      "execution_count": 21,
      "outputs": [
        {
          "output_type": "stream",
          "name": "stdout",
          "text": [
            "curr_acc:  0.6848030018761726\n"
          ]
        }
      ]
    },
    {
      "cell_type": "code",
      "source": [
        "models_df = pd.DataFrame({\"Models\":accuracys.keys(),\"Accuracy Scores\":accuracys.values()}).sort_values('Accuracy Scores',ascending=False)\n",
        "models_df"
      ],
      "metadata": {
        "colab": {
          "base_uri": "https://localhost:8080/",
          "height": 237
        },
        "id": "D2dpueY_H_ck",
        "outputId": "2f46499d-e4ee-4411-d896-b822aef9d06d"
      },
      "id": "D2dpueY_H_ck",
      "execution_count": 27,
      "outputs": [
        {
          "output_type": "execute_result",
          "data": {
            "text/plain": [
              "              Models  Accuracy Scores\n",
              "3                SVC         0.761726\n",
              "0      Random Forest         0.735460\n",
              "4      MultinomialNB         0.714822\n",
              "1  Gradient Boosting         0.705441\n",
              "2       DecisionTree         0.705441\n",
              "5      MLPClassifier         0.684803"
            ],
            "text/html": [
              "\n",
              "  <div id=\"df-f6a74ba5-f9ee-4f46-814b-98420481cb0b\">\n",
              "    <div class=\"colab-df-container\">\n",
              "      <div>\n",
              "<style scoped>\n",
              "    .dataframe tbody tr th:only-of-type {\n",
              "        vertical-align: middle;\n",
              "    }\n",
              "\n",
              "    .dataframe tbody tr th {\n",
              "        vertical-align: top;\n",
              "    }\n",
              "\n",
              "    .dataframe thead th {\n",
              "        text-align: right;\n",
              "    }\n",
              "</style>\n",
              "<table border=\"1\" class=\"dataframe\">\n",
              "  <thead>\n",
              "    <tr style=\"text-align: right;\">\n",
              "      <th></th>\n",
              "      <th>Models</th>\n",
              "      <th>Accuracy Scores</th>\n",
              "    </tr>\n",
              "  </thead>\n",
              "  <tbody>\n",
              "    <tr>\n",
              "      <th>3</th>\n",
              "      <td>SVC</td>\n",
              "      <td>0.761726</td>\n",
              "    </tr>\n",
              "    <tr>\n",
              "      <th>0</th>\n",
              "      <td>Random Forest</td>\n",
              "      <td>0.735460</td>\n",
              "    </tr>\n",
              "    <tr>\n",
              "      <th>4</th>\n",
              "      <td>MultinomialNB</td>\n",
              "      <td>0.714822</td>\n",
              "    </tr>\n",
              "    <tr>\n",
              "      <th>1</th>\n",
              "      <td>Gradient Boosting</td>\n",
              "      <td>0.705441</td>\n",
              "    </tr>\n",
              "    <tr>\n",
              "      <th>2</th>\n",
              "      <td>DecisionTree</td>\n",
              "      <td>0.705441</td>\n",
              "    </tr>\n",
              "    <tr>\n",
              "      <th>5</th>\n",
              "      <td>MLPClassifier</td>\n",
              "      <td>0.684803</td>\n",
              "    </tr>\n",
              "  </tbody>\n",
              "</table>\n",
              "</div>\n",
              "      <button class=\"colab-df-convert\" onclick=\"convertToInteractive('df-f6a74ba5-f9ee-4f46-814b-98420481cb0b')\"\n",
              "              title=\"Convert this dataframe to an interactive table.\"\n",
              "              style=\"display:none;\">\n",
              "        \n",
              "  <svg xmlns=\"http://www.w3.org/2000/svg\" height=\"24px\"viewBox=\"0 0 24 24\"\n",
              "       width=\"24px\">\n",
              "    <path d=\"M0 0h24v24H0V0z\" fill=\"none\"/>\n",
              "    <path d=\"M18.56 5.44l.94 2.06.94-2.06 2.06-.94-2.06-.94-.94-2.06-.94 2.06-2.06.94zm-11 1L8.5 8.5l.94-2.06 2.06-.94-2.06-.94L8.5 2.5l-.94 2.06-2.06.94zm10 10l.94 2.06.94-2.06 2.06-.94-2.06-.94-.94-2.06-.94 2.06-2.06.94z\"/><path d=\"M17.41 7.96l-1.37-1.37c-.4-.4-.92-.59-1.43-.59-.52 0-1.04.2-1.43.59L10.3 9.45l-7.72 7.72c-.78.78-.78 2.05 0 2.83L4 21.41c.39.39.9.59 1.41.59.51 0 1.02-.2 1.41-.59l7.78-7.78 2.81-2.81c.8-.78.8-2.07 0-2.86zM5.41 20L4 18.59l7.72-7.72 1.47 1.35L5.41 20z\"/>\n",
              "  </svg>\n",
              "      </button>\n",
              "      \n",
              "  <style>\n",
              "    .colab-df-container {\n",
              "      display:flex;\n",
              "      flex-wrap:wrap;\n",
              "      gap: 12px;\n",
              "    }\n",
              "\n",
              "    .colab-df-convert {\n",
              "      background-color: #E8F0FE;\n",
              "      border: none;\n",
              "      border-radius: 50%;\n",
              "      cursor: pointer;\n",
              "      display: none;\n",
              "      fill: #1967D2;\n",
              "      height: 32px;\n",
              "      padding: 0 0 0 0;\n",
              "      width: 32px;\n",
              "    }\n",
              "\n",
              "    .colab-df-convert:hover {\n",
              "      background-color: #E2EBFA;\n",
              "      box-shadow: 0px 1px 2px rgba(60, 64, 67, 0.3), 0px 1px 3px 1px rgba(60, 64, 67, 0.15);\n",
              "      fill: #174EA6;\n",
              "    }\n",
              "\n",
              "    [theme=dark] .colab-df-convert {\n",
              "      background-color: #3B4455;\n",
              "      fill: #D2E3FC;\n",
              "    }\n",
              "\n",
              "    [theme=dark] .colab-df-convert:hover {\n",
              "      background-color: #434B5C;\n",
              "      box-shadow: 0px 1px 3px 1px rgba(0, 0, 0, 0.15);\n",
              "      filter: drop-shadow(0px 1px 2px rgba(0, 0, 0, 0.3));\n",
              "      fill: #FFFFFF;\n",
              "    }\n",
              "  </style>\n",
              "\n",
              "      <script>\n",
              "        const buttonEl =\n",
              "          document.querySelector('#df-f6a74ba5-f9ee-4f46-814b-98420481cb0b button.colab-df-convert');\n",
              "        buttonEl.style.display =\n",
              "          google.colab.kernel.accessAllowed ? 'block' : 'none';\n",
              "\n",
              "        async function convertToInteractive(key) {\n",
              "          const element = document.querySelector('#df-f6a74ba5-f9ee-4f46-814b-98420481cb0b');\n",
              "          const dataTable =\n",
              "            await google.colab.kernel.invokeFunction('convertToInteractive',\n",
              "                                                     [key], {});\n",
              "          if (!dataTable) return;\n",
              "\n",
              "          const docLinkHtml = 'Like what you see? Visit the ' +\n",
              "            '<a target=\"_blank\" href=https://colab.research.google.com/notebooks/data_table.ipynb>data table notebook</a>'\n",
              "            + ' to learn more about interactive tables.';\n",
              "          element.innerHTML = '';\n",
              "          dataTable['output_type'] = 'display_data';\n",
              "          await google.colab.output.renderOutput(dataTable, element);\n",
              "          const docLink = document.createElement('div');\n",
              "          docLink.innerHTML = docLinkHtml;\n",
              "          element.appendChild(docLink);\n",
              "        }\n",
              "      </script>\n",
              "    </div>\n",
              "  </div>\n",
              "  "
            ]
          },
          "metadata": {},
          "execution_count": 27
        }
      ]
    },
    {
      "cell_type": "markdown",
      "source": [
        "**Using Transformer**"
      ],
      "metadata": {
        "id": "-NNuaW6V7WrD"
      },
      "id": "-NNuaW6V7WrD"
    },
    {
      "cell_type": "code",
      "source": [
        "# df=pd.read_csv(\"/content/drive/MyDrive/Dataset/preprocessed_stock.csv\")"
      ],
      "metadata": {
        "id": "f8w7Gd0DweMe"
      },
      "id": "f8w7Gd0DweMe",
      "execution_count": 96,
      "outputs": []
    },
    {
      "cell_type": "code",
      "execution_count": 10,
      "id": "ab72f767",
      "metadata": {
        "execution": {
          "iopub.execute_input": "2022-02-27T19:18:12.117746Z",
          "iopub.status.busy": "2022-02-27T19:18:12.117071Z",
          "iopub.status.idle": "2022-02-27T19:18:12.120253Z",
          "shell.execute_reply": "2022-02-27T19:18:12.119809Z",
          "shell.execute_reply.started": "2022-02-27T19:08:22.111734Z"
        },
        "papermill": {
          "duration": 0.054494,
          "end_time": "2022-02-27T19:18:12.120370",
          "exception": false,
          "start_time": "2022-02-27T19:18:12.065876",
          "status": "completed"
        },
        "tags": [],
        "id": "ab72f767"
      },
      "outputs": [],
      "source": [
        "training_df, test_df = train_test_split(df,test_size=test_size,random_state=random_seed,stratify=df.labels.values,)\n",
        "train_df, val_df = train_test_split(training_df,test_size=validation_size,random_state=random_seed,stratify=training_df.labels.values,)\n",
        "dataset = {\n",
        "        \"train\": Dataset.from_pandas(train_df),\n",
        "        \"validation\": Dataset.from_pandas(val_df),\n",
        "        \"test\": Dataset.from_pandas(test_df),\n",
        "    }\n",
        "dataset = DatasetDict(dataset)"
      ]
    },
    {
      "cell_type": "code",
      "execution_count": 11,
      "id": "f42b2e34",
      "metadata": {
        "execution": {
          "iopub.execute_input": "2022-02-27T19:18:12.216055Z",
          "iopub.status.busy": "2022-02-27T19:18:12.214462Z",
          "iopub.status.idle": "2022-02-27T19:18:12.216650Z",
          "shell.execute_reply": "2022-02-27T19:18:12.217075Z",
          "shell.execute_reply.started": "2022-02-27T19:08:22.124524Z"
        },
        "papermill": {
          "duration": 0.052622,
          "end_time": "2022-02-27T19:18:12.217204",
          "exception": false,
          "start_time": "2022-02-27T19:18:12.164582",
          "status": "completed"
        },
        "tags": [],
        "colab": {
          "base_uri": "https://localhost:8080/",
          "height": 17,
          "referenced_widgets": [
            "cc8a6d02f79148cca6492b87f560417a",
            "ad462c5dd15e472b878ddb6962c5249c",
            "da830fe65fec4ab682c437552e834158",
            "3e759a83fc5745379ec6683c6aa3492e",
            "315bcfadd2fe44eb80c46e05b83bf984",
            "480d3abaf59b44aeb8683b22356a1bb2",
            "af3aabf38b7a409e9687478bbca0f51b",
            "be45955a05a7420aad473317ee8b9733",
            "c5e288d5ec0b46e2b25d6089adb3eb9e",
            "a72a2aa387804433a3177d2c23818ef6",
            "9409b96569bb4e38b22f55d63b39b668",
            "4aad328e292b4c8bbf8d6698789f7310",
            "8270ec6fb12c49828eb2734180a77a90",
            "b1febfd82b4c48a491c68b7b4882bfd4",
            "a94b408b11684423b5dbe5f5553be218",
            "49afe84694ba4979886cef9debc29282",
            "36bae950cfb64836afc6b454363f0d1e",
            "0f7ea64eb6b94378af2f4cb2dc2a8194",
            "9f2b97bd4c854f138f1d95bedbd637ef",
            "29682220bc544f8c97bce2a162a5d468",
            "3d6aa6c0589c40c7a68b43f6e51673ec",
            "e5fd258f1d0b431f93360f0e9453606e",
            "1898d14ad9b347dbba3fa59bbf647881",
            "f0459aabba95423782fa0d0a5205625f",
            "0cd289f3185c4db6b090324cba5abb31",
            "29121a71039d45d092a46eabc9662733",
            "26185e4a54e94b638131a8c109d87e4e",
            "0c7770f9f3694a5ca32cb7dbf3a75716",
            "8766bfa88814461dacbdb19facac9110",
            "d29cda46f6014631b60192e439488c20",
            "0ed7994ace884c60926b7f40c44c7585",
            "e0ba2cb4732d4b398115544872d656c0",
            "7e16d459f0544feab43183dc5c878ad4"
          ]
        },
        "id": "f42b2e34",
        "outputId": "ba1010bd-d23f-4e62-bfd2-b4b9ed6990ec"
      },
      "outputs": [
        {
          "output_type": "display_data",
          "data": {
            "text/plain": [
              "Map:   0%|          | 0/3831 [00:00<?, ? examples/s]"
            ],
            "application/vnd.jupyter.widget-view+json": {
              "version_major": 2,
              "version_minor": 0,
              "model_id": "cc8a6d02f79148cca6492b87f560417a"
            }
          },
          "metadata": {}
        },
        {
          "output_type": "display_data",
          "data": {
            "text/plain": [
              "Map:   0%|          | 0/958 [00:00<?, ? examples/s]"
            ],
            "application/vnd.jupyter.widget-view+json": {
              "version_major": 2,
              "version_minor": 0,
              "model_id": "4aad328e292b4c8bbf8d6698789f7310"
            }
          },
          "metadata": {}
        },
        {
          "output_type": "display_data",
          "data": {
            "text/plain": [
              "Map:   0%|          | 0/533 [00:00<?, ? examples/s]"
            ],
            "application/vnd.jupyter.widget-view+json": {
              "version_major": 2,
              "version_minor": 0,
              "model_id": "1898d14ad9b347dbba3fa59bbf647881"
            }
          },
          "metadata": {}
        }
      ],
      "source": [
        "tokenizer = AutoTokenizer.from_pretrained(model_checkpoint,use_fast=True)\n",
        "def tokenize_function(sample):\n",
        "    outputs = tokenizer(\n",
        "        sample[\"Sentence\"],\n",
        "        truncation=True,\n",
        "        padding=\"max_length\",\n",
        "        max_length=max_length,\n",
        "    )\n",
        "    return outputs\n",
        "tokenized_datasets = dataset.map(tokenize_function, batched=True, remove_columns=[\"Sentence\",\"Sentiment\",\"__index_level_0__\"])\n",
        "tokenized_datasets.set_format(\"torch\")"
      ]
    },
    {
      "cell_type": "code",
      "execution_count": 12,
      "id": "49091863",
      "metadata": {
        "execution": {
          "iopub.execute_input": "2022-02-27T19:18:12.311458Z",
          "iopub.status.busy": "2022-02-27T19:18:12.310716Z",
          "iopub.status.idle": "2022-02-27T19:18:12.312944Z",
          "shell.execute_reply": "2022-02-27T19:18:12.313365Z",
          "shell.execute_reply.started": "2022-02-27T19:08:22.135957Z"
        },
        "papermill": {
          "duration": 0.052277,
          "end_time": "2022-02-27T19:18:12.313504",
          "exception": false,
          "start_time": "2022-02-27T19:18:12.261227",
          "status": "completed"
        },
        "tags": [],
        "id": "49091863"
      },
      "outputs": [],
      "source": [
        "train_dataloader = DataLoader(tokenized_datasets[\"train\"], shuffle=True, batch_size=train_batch_size)\n",
        "eval_dataloader = DataLoader(tokenized_datasets[\"validation\"], shuffle=False, batch_size=eval_batch_size)"
      ]
    },
    {
      "cell_type": "code",
      "source": [
        "set_seed(random_seed)\n",
        "accuracy = load_metric(\"accuracy\")\n",
        "transformers.utils.logging.set_verbosity_info()\n",
        "\n",
        "model = AutoModelForSequenceClassification.from_pretrained(model_checkpoint, num_labels=num_labels)\n",
        "optimizer = torch.optim.AdamW(params=model.parameters(), eps=adam_epsilon, lr=lr)\n",
        "progress_bar = tqdm(range(epochs * len(train_dataloader)))\n",
        "\n",
        "# Model Training\n",
        "for epoch in range(epochs):\n",
        "    model.train()\n",
        "    for step, batch in enumerate(train_dataloader):\n",
        "        outputs = model(**batch)\n",
        "        loss = outputs.loss\n",
        "        loss.backward()\n",
        "        optimizer.step()\n",
        "        optimizer.zero_grad()\n",
        "        progress_bar.update(1)\n",
        "\n",
        "    model.eval()\n",
        "    all_predictions = []\n",
        "    all_labels = []\n",
        "\n",
        "    for step, batch in enumerate(eval_dataloader):\n",
        "        with torch.no_grad():\n",
        "            outputs = model(**batch)\n",
        "        predictions = outputs.logits.argmax(dim=-1)\n",
        "\n",
        "        all_predictions.append(predictions)\n",
        "        all_labels.append(batch[\"labels\"])\n",
        "\n",
        "    # Concatenate all predictions and labels.\n",
        "    all_predictions = torch.cat(all_predictions)[: len(tokenized_datasets[\"validation\"])]\n",
        "    all_labels = torch.cat(all_labels)[: len(tokenized_datasets[\"validation\"])]\n",
        "\n",
        "    eval_accuracy = accuracy.compute(predictions=all_predictions, references=all_labels)\n",
        "    print(f\"epoch {epoch}:\", eval_accuracy)"
      ],
      "metadata": {
        "colab": {
          "base_uri": "https://localhost:8080/",
          "height": 885,
          "referenced_widgets": [
            "66841a73f322419495ab07b910d76e8b",
            "7381f3adcfe443a19c6435dfb811dd08",
            "a537db88e4a54ad9bc189519bf66a3be",
            "e86cf93b6d0749c3b997e4f1a86703d2",
            "e85c2ce11d874a5496fccbb34bd0aad1",
            "b5c7e3893ac44803b0997ba053bc228b",
            "9369441e215040cea70e4a4e04b0dd14",
            "20f9e8562c54431abb2e7a9c12a2f362",
            "c6a016e4037d4f068bf513f3f4423c63",
            "23f22bbe430b444daed0d0d656dc61a5",
            "fc9ee22d55564da4a788d1440288a26e"
          ]
        },
        "id": "cimrIX-kdNzX",
        "outputId": "be5a705e-9a04-47fc-935e-1928a4e69c72"
      },
      "id": "cimrIX-kdNzX",
      "execution_count": null,
      "outputs": [
        {
          "metadata": {
            "tags": null
          },
          "name": "stderr",
          "output_type": "stream",
          "text": [
            "loading configuration file config.json from cache at /root/.cache/huggingface/hub/models--roberta-base/snapshots/bc2764f8af2e92b6eb5679868df33e224075ca68/config.json\n",
            "Model config RobertaConfig {\n",
            "  \"_name_or_path\": \"roberta-base\",\n",
            "  \"architectures\": [\n",
            "    \"RobertaForMaskedLM\"\n",
            "  ],\n",
            "  \"attention_probs_dropout_prob\": 0.1,\n",
            "  \"bos_token_id\": 0,\n",
            "  \"classifier_dropout\": null,\n",
            "  \"eos_token_id\": 2,\n",
            "  \"hidden_act\": \"gelu\",\n",
            "  \"hidden_dropout_prob\": 0.1,\n",
            "  \"hidden_size\": 768,\n",
            "  \"id2label\": {\n",
            "    \"0\": \"LABEL_0\",\n",
            "    \"1\": \"LABEL_1\",\n",
            "    \"2\": \"LABEL_2\"\n",
            "  },\n",
            "  \"initializer_range\": 0.02,\n",
            "  \"intermediate_size\": 3072,\n",
            "  \"label2id\": {\n",
            "    \"LABEL_0\": 0,\n",
            "    \"LABEL_1\": 1,\n",
            "    \"LABEL_2\": 2\n",
            "  },\n",
            "  \"layer_norm_eps\": 1e-05,\n",
            "  \"max_position_embeddings\": 514,\n",
            "  \"model_type\": \"roberta\",\n",
            "  \"num_attention_heads\": 12,\n",
            "  \"num_hidden_layers\": 12,\n",
            "  \"pad_token_id\": 1,\n",
            "  \"position_embedding_type\": \"absolute\",\n",
            "  \"transformers_version\": \"4.30.2\",\n",
            "  \"type_vocab_size\": 1,\n",
            "  \"use_cache\": true,\n",
            "  \"vocab_size\": 50265\n",
            "}\n",
            "\n",
            "loading weights file model.safetensors from cache at /root/.cache/huggingface/hub/models--roberta-base/snapshots/bc2764f8af2e92b6eb5679868df33e224075ca68/model.safetensors\n",
            "Some weights of the model checkpoint at roberta-base were not used when initializing RobertaForSequenceClassification: ['lm_head.dense.bias', 'lm_head.layer_norm.bias', 'lm_head.dense.weight', 'lm_head.bias', 'lm_head.layer_norm.weight']\n",
            "- This IS expected if you are initializing RobertaForSequenceClassification from the checkpoint of a model trained on another task or with another architecture (e.g. initializing a BertForSequenceClassification model from a BertForPreTraining model).\n",
            "- This IS NOT expected if you are initializing RobertaForSequenceClassification from the checkpoint of a model that you expect to be exactly identical (initializing a BertForSequenceClassification model from a BertForSequenceClassification model).\n",
            "Some weights of RobertaForSequenceClassification were not initialized from the model checkpoint at roberta-base and are newly initialized: ['classifier.dense.weight', 'classifier.out_proj.weight', 'classifier.dense.bias', 'classifier.out_proj.bias']\n",
            "You should probably TRAIN this model on a down-stream task to be able to use it for predictions and inference.\n"
          ]
        },
        {
          "data": {
            "application/vnd.jupyter.widget-view+json": {
              "model_id": "66841a73f322419495ab07b910d76e8b",
              "version_major": 2,
              "version_minor": 0
            },
            "text/plain": [
              "  0%|          | 0/600 [00:00<?, ?it/s]"
            ]
          },
          "metadata": {},
          "output_type": "display_data"
        },
        {
          "metadata": {
            "tags": null
          },
          "name": "stdout",
          "output_type": "stream",
          "text": [
            "epoch 0: {'accuracy': 0.7400835073068893}\n",
            "epoch 1: {'accuracy': 0.7839248434237995}\n",
            "epoch 2: {'accuracy': 0.7839248434237995}\n"
          ]
        }
      ]
    },
    {
      "cell_type": "code",
      "execution_count": null,
      "id": "023aaa90",
      "metadata": {
        "execution": {
          "iopub.execute_input": "2022-02-27T19:18:12.418050Z",
          "iopub.status.busy": "2022-02-27T19:18:12.416401Z",
          "iopub.status.idle": "2022-02-27T19:18:12.418613Z",
          "shell.execute_reply": "2022-02-27T19:18:12.419038Z",
          "shell.execute_reply.started": "2022-02-27T19:08:22.144462Z"
        },
        "papermill": {
          "duration": 0.061515,
          "end_time": "2022-02-27T19:18:12.419176",
          "exception": false,
          "start_time": "2022-02-27T19:18:12.357661",
          "status": "completed"
        },
        "tags": [],
        "id": "023aaa90"
      },
      "outputs": [],
      "source": []
    },
    {
      "cell_type": "code",
      "execution_count": 37,
      "id": "b68bea4b",
      "metadata": {
        "execution": {
          "iopub.execute_input": "2022-02-27T19:18:12.516607Z",
          "iopub.status.busy": "2022-02-27T19:18:12.515946Z",
          "iopub.status.idle": "2022-02-27T19:23:14.650493Z",
          "shell.execute_reply": "2022-02-27T19:23:14.651628Z",
          "shell.execute_reply.started": "2022-02-27T19:08:22.168295Z"
        },
        "papermill": {
          "duration": 302.185913,
          "end_time": "2022-02-27T19:23:14.651882",
          "exception": false,
          "start_time": "2022-02-27T19:18:12.465969",
          "status": "completed"
        },
        "tags": [],
        "id": "b68bea4b"
      },
      "outputs": [],
      "source": []
    },
    {
      "cell_type": "markdown",
      "id": "f46d9a4b",
      "metadata": {
        "papermill": {
          "duration": 0.087448,
          "end_time": "2022-02-27T19:23:14.851401",
          "exception": false,
          "start_time": "2022-02-27T19:23:14.763953",
          "status": "completed"
        },
        "tags": [],
        "id": "f46d9a4b"
      },
      "source": [
        "## Conclusion"
      ]
    },
    {
      "cell_type": "code",
      "execution_count": 28,
      "id": "0938bdb6",
      "metadata": {
        "execution": {
          "iopub.execute_input": "2022-02-27T19:23:15.044624Z",
          "iopub.status.busy": "2022-02-27T19:23:15.043777Z",
          "iopub.status.idle": "2022-02-27T19:23:15.048925Z",
          "shell.execute_reply": "2022-02-27T19:23:15.048261Z",
          "shell.execute_reply.started": "2022-02-27T19:13:11.851452Z"
        },
        "papermill": {
          "duration": 0.106892,
          "end_time": "2022-02-27T19:23:15.049107",
          "exception": false,
          "start_time": "2022-02-27T19:23:14.942215",
          "status": "completed"
        },
        "tags": [],
        "id": "0938bdb6"
      },
      "outputs": [],
      "source": [
        "RoBERTa = {'Models': 'RoBERTa', 'Accuracy Scores': 0.7892}\n",
        "models_df = models_df.append(RoBERTa, ignore_index = True)"
      ]
    },
    {
      "cell_type": "code",
      "execution_count": 31,
      "id": "7197621c",
      "metadata": {
        "papermill": {
          "duration": 0.055569,
          "end_time": "2022-02-27T19:23:15.713003",
          "exception": false,
          "start_time": "2022-02-27T19:23:15.657434",
          "status": "completed"
        },
        "tags": [],
        "id": "7197621c",
        "colab": {
          "base_uri": "https://localhost:8080/",
          "height": 269
        },
        "outputId": "5e49289d-1951-48a5-caee-131ced6c5f63"
      },
      "outputs": [
        {
          "output_type": "execute_result",
          "data": {
            "text/plain": [
              "              Models  Accuracy Scores\n",
              "6            RoBERTa         0.789200\n",
              "0                SVC         0.761726\n",
              "1      Random Forest         0.735460\n",
              "2      MultinomialNB         0.714822\n",
              "3  Gradient Boosting         0.705441\n",
              "4       DecisionTree         0.705441\n",
              "5      MLPClassifier         0.684803"
            ],
            "text/html": [
              "\n",
              "  <div id=\"df-a084fbbb-731d-4c81-8c98-968aaacea3f5\">\n",
              "    <div class=\"colab-df-container\">\n",
              "      <div>\n",
              "<style scoped>\n",
              "    .dataframe tbody tr th:only-of-type {\n",
              "        vertical-align: middle;\n",
              "    }\n",
              "\n",
              "    .dataframe tbody tr th {\n",
              "        vertical-align: top;\n",
              "    }\n",
              "\n",
              "    .dataframe thead th {\n",
              "        text-align: right;\n",
              "    }\n",
              "</style>\n",
              "<table border=\"1\" class=\"dataframe\">\n",
              "  <thead>\n",
              "    <tr style=\"text-align: right;\">\n",
              "      <th></th>\n",
              "      <th>Models</th>\n",
              "      <th>Accuracy Scores</th>\n",
              "    </tr>\n",
              "  </thead>\n",
              "  <tbody>\n",
              "    <tr>\n",
              "      <th>6</th>\n",
              "      <td>RoBERTa</td>\n",
              "      <td>0.789200</td>\n",
              "    </tr>\n",
              "    <tr>\n",
              "      <th>0</th>\n",
              "      <td>SVC</td>\n",
              "      <td>0.761726</td>\n",
              "    </tr>\n",
              "    <tr>\n",
              "      <th>1</th>\n",
              "      <td>Random Forest</td>\n",
              "      <td>0.735460</td>\n",
              "    </tr>\n",
              "    <tr>\n",
              "      <th>2</th>\n",
              "      <td>MultinomialNB</td>\n",
              "      <td>0.714822</td>\n",
              "    </tr>\n",
              "    <tr>\n",
              "      <th>3</th>\n",
              "      <td>Gradient Boosting</td>\n",
              "      <td>0.705441</td>\n",
              "    </tr>\n",
              "    <tr>\n",
              "      <th>4</th>\n",
              "      <td>DecisionTree</td>\n",
              "      <td>0.705441</td>\n",
              "    </tr>\n",
              "    <tr>\n",
              "      <th>5</th>\n",
              "      <td>MLPClassifier</td>\n",
              "      <td>0.684803</td>\n",
              "    </tr>\n",
              "  </tbody>\n",
              "</table>\n",
              "</div>\n",
              "      <button class=\"colab-df-convert\" onclick=\"convertToInteractive('df-a084fbbb-731d-4c81-8c98-968aaacea3f5')\"\n",
              "              title=\"Convert this dataframe to an interactive table.\"\n",
              "              style=\"display:none;\">\n",
              "        \n",
              "  <svg xmlns=\"http://www.w3.org/2000/svg\" height=\"24px\"viewBox=\"0 0 24 24\"\n",
              "       width=\"24px\">\n",
              "    <path d=\"M0 0h24v24H0V0z\" fill=\"none\"/>\n",
              "    <path d=\"M18.56 5.44l.94 2.06.94-2.06 2.06-.94-2.06-.94-.94-2.06-.94 2.06-2.06.94zm-11 1L8.5 8.5l.94-2.06 2.06-.94-2.06-.94L8.5 2.5l-.94 2.06-2.06.94zm10 10l.94 2.06.94-2.06 2.06-.94-2.06-.94-.94-2.06-.94 2.06-2.06.94z\"/><path d=\"M17.41 7.96l-1.37-1.37c-.4-.4-.92-.59-1.43-.59-.52 0-1.04.2-1.43.59L10.3 9.45l-7.72 7.72c-.78.78-.78 2.05 0 2.83L4 21.41c.39.39.9.59 1.41.59.51 0 1.02-.2 1.41-.59l7.78-7.78 2.81-2.81c.8-.78.8-2.07 0-2.86zM5.41 20L4 18.59l7.72-7.72 1.47 1.35L5.41 20z\"/>\n",
              "  </svg>\n",
              "      </button>\n",
              "      \n",
              "  <style>\n",
              "    .colab-df-container {\n",
              "      display:flex;\n",
              "      flex-wrap:wrap;\n",
              "      gap: 12px;\n",
              "    }\n",
              "\n",
              "    .colab-df-convert {\n",
              "      background-color: #E8F0FE;\n",
              "      border: none;\n",
              "      border-radius: 50%;\n",
              "      cursor: pointer;\n",
              "      display: none;\n",
              "      fill: #1967D2;\n",
              "      height: 32px;\n",
              "      padding: 0 0 0 0;\n",
              "      width: 32px;\n",
              "    }\n",
              "\n",
              "    .colab-df-convert:hover {\n",
              "      background-color: #E2EBFA;\n",
              "      box-shadow: 0px 1px 2px rgba(60, 64, 67, 0.3), 0px 1px 3px 1px rgba(60, 64, 67, 0.15);\n",
              "      fill: #174EA6;\n",
              "    }\n",
              "\n",
              "    [theme=dark] .colab-df-convert {\n",
              "      background-color: #3B4455;\n",
              "      fill: #D2E3FC;\n",
              "    }\n",
              "\n",
              "    [theme=dark] .colab-df-convert:hover {\n",
              "      background-color: #434B5C;\n",
              "      box-shadow: 0px 1px 3px 1px rgba(0, 0, 0, 0.15);\n",
              "      filter: drop-shadow(0px 1px 2px rgba(0, 0, 0, 0.3));\n",
              "      fill: #FFFFFF;\n",
              "    }\n",
              "  </style>\n",
              "\n",
              "      <script>\n",
              "        const buttonEl =\n",
              "          document.querySelector('#df-a084fbbb-731d-4c81-8c98-968aaacea3f5 button.colab-df-convert');\n",
              "        buttonEl.style.display =\n",
              "          google.colab.kernel.accessAllowed ? 'block' : 'none';\n",
              "\n",
              "        async function convertToInteractive(key) {\n",
              "          const element = document.querySelector('#df-a084fbbb-731d-4c81-8c98-968aaacea3f5');\n",
              "          const dataTable =\n",
              "            await google.colab.kernel.invokeFunction('convertToInteractive',\n",
              "                                                     [key], {});\n",
              "          if (!dataTable) return;\n",
              "\n",
              "          const docLinkHtml = 'Like what you see? Visit the ' +\n",
              "            '<a target=\"_blank\" href=https://colab.research.google.com/notebooks/data_table.ipynb>data table notebook</a>'\n",
              "            + ' to learn more about interactive tables.';\n",
              "          element.innerHTML = '';\n",
              "          dataTable['output_type'] = 'display_data';\n",
              "          await google.colab.output.renderOutput(dataTable, element);\n",
              "          const docLink = document.createElement('div');\n",
              "          docLink.innerHTML = docLinkHtml;\n",
              "          element.appendChild(docLink);\n",
              "        }\n",
              "      </script>\n",
              "    </div>\n",
              "  </div>\n",
              "  "
            ]
          },
          "metadata": {},
          "execution_count": 31
        }
      ],
      "source": [
        "models_df=models_df.sort_values('Accuracy Scores',ascending=False)\n",
        "models_df"
      ]
    },
    {
      "cell_type": "code",
      "source": [],
      "metadata": {
        "id": "uT3mQxVfKL2H"
      },
      "id": "uT3mQxVfKL2H",
      "execution_count": null,
      "outputs": []
    }
  ],
  "metadata": {
    "kernelspec": {
      "display_name": "Python 3",
      "language": "python",
      "name": "python3"
    },
    "language_info": {
      "codemirror_mode": {
        "name": "ipython",
        "version": 3
      },
      "file_extension": ".py",
      "mimetype": "text/x-python",
      "name": "python",
      "nbconvert_exporter": "python",
      "pygments_lexer": "ipython3",
      "version": "3.7.10"
    },
    "papermill": {
      "default_parameters": {},
      "duration": 542.80955,
      "end_time": "2022-02-27T19:23:18.979053",
      "environment_variables": {},
      "exception": null,
      "input_path": "__notebook__.ipynb",
      "output_path": "__notebook__.ipynb",
      "parameters": {},
      "start_time": "2022-02-27T19:14:16.169503",
      "version": "2.3.3"
    },
    "widgets": {
      "application/vnd.jupyter.widget-state+json": {
        "cc8a6d02f79148cca6492b87f560417a": {
          "model_module": "@jupyter-widgets/controls",
          "model_name": "HBoxModel",
          "model_module_version": "1.5.0",
          "state": {
            "_dom_classes": [],
            "_model_module": "@jupyter-widgets/controls",
            "_model_module_version": "1.5.0",
            "_model_name": "HBoxModel",
            "_view_count": null,
            "_view_module": "@jupyter-widgets/controls",
            "_view_module_version": "1.5.0",
            "_view_name": "HBoxView",
            "box_style": "",
            "children": [
              "IPY_MODEL_ad462c5dd15e472b878ddb6962c5249c",
              "IPY_MODEL_da830fe65fec4ab682c437552e834158",
              "IPY_MODEL_3e759a83fc5745379ec6683c6aa3492e"
            ],
            "layout": "IPY_MODEL_315bcfadd2fe44eb80c46e05b83bf984"
          }
        },
        "ad462c5dd15e472b878ddb6962c5249c": {
          "model_module": "@jupyter-widgets/controls",
          "model_name": "HTMLModel",
          "model_module_version": "1.5.0",
          "state": {
            "_dom_classes": [],
            "_model_module": "@jupyter-widgets/controls",
            "_model_module_version": "1.5.0",
            "_model_name": "HTMLModel",
            "_view_count": null,
            "_view_module": "@jupyter-widgets/controls",
            "_view_module_version": "1.5.0",
            "_view_name": "HTMLView",
            "description": "",
            "description_tooltip": null,
            "layout": "IPY_MODEL_480d3abaf59b44aeb8683b22356a1bb2",
            "placeholder": "​",
            "style": "IPY_MODEL_af3aabf38b7a409e9687478bbca0f51b",
            "value": "Map: 100%"
          }
        },
        "da830fe65fec4ab682c437552e834158": {
          "model_module": "@jupyter-widgets/controls",
          "model_name": "FloatProgressModel",
          "model_module_version": "1.5.0",
          "state": {
            "_dom_classes": [],
            "_model_module": "@jupyter-widgets/controls",
            "_model_module_version": "1.5.0",
            "_model_name": "FloatProgressModel",
            "_view_count": null,
            "_view_module": "@jupyter-widgets/controls",
            "_view_module_version": "1.5.0",
            "_view_name": "ProgressView",
            "bar_style": "",
            "description": "",
            "description_tooltip": null,
            "layout": "IPY_MODEL_be45955a05a7420aad473317ee8b9733",
            "max": 3831,
            "min": 0,
            "orientation": "horizontal",
            "style": "IPY_MODEL_c5e288d5ec0b46e2b25d6089adb3eb9e",
            "value": 3831
          }
        },
        "3e759a83fc5745379ec6683c6aa3492e": {
          "model_module": "@jupyter-widgets/controls",
          "model_name": "HTMLModel",
          "model_module_version": "1.5.0",
          "state": {
            "_dom_classes": [],
            "_model_module": "@jupyter-widgets/controls",
            "_model_module_version": "1.5.0",
            "_model_name": "HTMLModel",
            "_view_count": null,
            "_view_module": "@jupyter-widgets/controls",
            "_view_module_version": "1.5.0",
            "_view_name": "HTMLView",
            "description": "",
            "description_tooltip": null,
            "layout": "IPY_MODEL_a72a2aa387804433a3177d2c23818ef6",
            "placeholder": "​",
            "style": "IPY_MODEL_9409b96569bb4e38b22f55d63b39b668",
            "value": " 3831/3831 [00:01&lt;00:00, 3929.25 examples/s]"
          }
        },
        "315bcfadd2fe44eb80c46e05b83bf984": {
          "model_module": "@jupyter-widgets/base",
          "model_name": "LayoutModel",
          "model_module_version": "1.2.0",
          "state": {
            "_model_module": "@jupyter-widgets/base",
            "_model_module_version": "1.2.0",
            "_model_name": "LayoutModel",
            "_view_count": null,
            "_view_module": "@jupyter-widgets/base",
            "_view_module_version": "1.2.0",
            "_view_name": "LayoutView",
            "align_content": null,
            "align_items": null,
            "align_self": null,
            "border": null,
            "bottom": null,
            "display": null,
            "flex": null,
            "flex_flow": null,
            "grid_area": null,
            "grid_auto_columns": null,
            "grid_auto_flow": null,
            "grid_auto_rows": null,
            "grid_column": null,
            "grid_gap": null,
            "grid_row": null,
            "grid_template_areas": null,
            "grid_template_columns": null,
            "grid_template_rows": null,
            "height": null,
            "justify_content": null,
            "justify_items": null,
            "left": null,
            "margin": null,
            "max_height": null,
            "max_width": null,
            "min_height": null,
            "min_width": null,
            "object_fit": null,
            "object_position": null,
            "order": null,
            "overflow": null,
            "overflow_x": null,
            "overflow_y": null,
            "padding": null,
            "right": null,
            "top": null,
            "visibility": "hidden",
            "width": null
          }
        },
        "480d3abaf59b44aeb8683b22356a1bb2": {
          "model_module": "@jupyter-widgets/base",
          "model_name": "LayoutModel",
          "model_module_version": "1.2.0",
          "state": {
            "_model_module": "@jupyter-widgets/base",
            "_model_module_version": "1.2.0",
            "_model_name": "LayoutModel",
            "_view_count": null,
            "_view_module": "@jupyter-widgets/base",
            "_view_module_version": "1.2.0",
            "_view_name": "LayoutView",
            "align_content": null,
            "align_items": null,
            "align_self": null,
            "border": null,
            "bottom": null,
            "display": null,
            "flex": null,
            "flex_flow": null,
            "grid_area": null,
            "grid_auto_columns": null,
            "grid_auto_flow": null,
            "grid_auto_rows": null,
            "grid_column": null,
            "grid_gap": null,
            "grid_row": null,
            "grid_template_areas": null,
            "grid_template_columns": null,
            "grid_template_rows": null,
            "height": null,
            "justify_content": null,
            "justify_items": null,
            "left": null,
            "margin": null,
            "max_height": null,
            "max_width": null,
            "min_height": null,
            "min_width": null,
            "object_fit": null,
            "object_position": null,
            "order": null,
            "overflow": null,
            "overflow_x": null,
            "overflow_y": null,
            "padding": null,
            "right": null,
            "top": null,
            "visibility": null,
            "width": null
          }
        },
        "af3aabf38b7a409e9687478bbca0f51b": {
          "model_module": "@jupyter-widgets/controls",
          "model_name": "DescriptionStyleModel",
          "model_module_version": "1.5.0",
          "state": {
            "_model_module": "@jupyter-widgets/controls",
            "_model_module_version": "1.5.0",
            "_model_name": "DescriptionStyleModel",
            "_view_count": null,
            "_view_module": "@jupyter-widgets/base",
            "_view_module_version": "1.2.0",
            "_view_name": "StyleView",
            "description_width": ""
          }
        },
        "be45955a05a7420aad473317ee8b9733": {
          "model_module": "@jupyter-widgets/base",
          "model_name": "LayoutModel",
          "model_module_version": "1.2.0",
          "state": {
            "_model_module": "@jupyter-widgets/base",
            "_model_module_version": "1.2.0",
            "_model_name": "LayoutModel",
            "_view_count": null,
            "_view_module": "@jupyter-widgets/base",
            "_view_module_version": "1.2.0",
            "_view_name": "LayoutView",
            "align_content": null,
            "align_items": null,
            "align_self": null,
            "border": null,
            "bottom": null,
            "display": null,
            "flex": null,
            "flex_flow": null,
            "grid_area": null,
            "grid_auto_columns": null,
            "grid_auto_flow": null,
            "grid_auto_rows": null,
            "grid_column": null,
            "grid_gap": null,
            "grid_row": null,
            "grid_template_areas": null,
            "grid_template_columns": null,
            "grid_template_rows": null,
            "height": null,
            "justify_content": null,
            "justify_items": null,
            "left": null,
            "margin": null,
            "max_height": null,
            "max_width": null,
            "min_height": null,
            "min_width": null,
            "object_fit": null,
            "object_position": null,
            "order": null,
            "overflow": null,
            "overflow_x": null,
            "overflow_y": null,
            "padding": null,
            "right": null,
            "top": null,
            "visibility": null,
            "width": null
          }
        },
        "c5e288d5ec0b46e2b25d6089adb3eb9e": {
          "model_module": "@jupyter-widgets/controls",
          "model_name": "ProgressStyleModel",
          "model_module_version": "1.5.0",
          "state": {
            "_model_module": "@jupyter-widgets/controls",
            "_model_module_version": "1.5.0",
            "_model_name": "ProgressStyleModel",
            "_view_count": null,
            "_view_module": "@jupyter-widgets/base",
            "_view_module_version": "1.2.0",
            "_view_name": "StyleView",
            "bar_color": null,
            "description_width": ""
          }
        },
        "a72a2aa387804433a3177d2c23818ef6": {
          "model_module": "@jupyter-widgets/base",
          "model_name": "LayoutModel",
          "model_module_version": "1.2.0",
          "state": {
            "_model_module": "@jupyter-widgets/base",
            "_model_module_version": "1.2.0",
            "_model_name": "LayoutModel",
            "_view_count": null,
            "_view_module": "@jupyter-widgets/base",
            "_view_module_version": "1.2.0",
            "_view_name": "LayoutView",
            "align_content": null,
            "align_items": null,
            "align_self": null,
            "border": null,
            "bottom": null,
            "display": null,
            "flex": null,
            "flex_flow": null,
            "grid_area": null,
            "grid_auto_columns": null,
            "grid_auto_flow": null,
            "grid_auto_rows": null,
            "grid_column": null,
            "grid_gap": null,
            "grid_row": null,
            "grid_template_areas": null,
            "grid_template_columns": null,
            "grid_template_rows": null,
            "height": null,
            "justify_content": null,
            "justify_items": null,
            "left": null,
            "margin": null,
            "max_height": null,
            "max_width": null,
            "min_height": null,
            "min_width": null,
            "object_fit": null,
            "object_position": null,
            "order": null,
            "overflow": null,
            "overflow_x": null,
            "overflow_y": null,
            "padding": null,
            "right": null,
            "top": null,
            "visibility": null,
            "width": null
          }
        },
        "9409b96569bb4e38b22f55d63b39b668": {
          "model_module": "@jupyter-widgets/controls",
          "model_name": "DescriptionStyleModel",
          "model_module_version": "1.5.0",
          "state": {
            "_model_module": "@jupyter-widgets/controls",
            "_model_module_version": "1.5.0",
            "_model_name": "DescriptionStyleModel",
            "_view_count": null,
            "_view_module": "@jupyter-widgets/base",
            "_view_module_version": "1.2.0",
            "_view_name": "StyleView",
            "description_width": ""
          }
        },
        "4aad328e292b4c8bbf8d6698789f7310": {
          "model_module": "@jupyter-widgets/controls",
          "model_name": "HBoxModel",
          "model_module_version": "1.5.0",
          "state": {
            "_dom_classes": [],
            "_model_module": "@jupyter-widgets/controls",
            "_model_module_version": "1.5.0",
            "_model_name": "HBoxModel",
            "_view_count": null,
            "_view_module": "@jupyter-widgets/controls",
            "_view_module_version": "1.5.0",
            "_view_name": "HBoxView",
            "box_style": "",
            "children": [
              "IPY_MODEL_8270ec6fb12c49828eb2734180a77a90",
              "IPY_MODEL_b1febfd82b4c48a491c68b7b4882bfd4",
              "IPY_MODEL_a94b408b11684423b5dbe5f5553be218"
            ],
            "layout": "IPY_MODEL_49afe84694ba4979886cef9debc29282"
          }
        },
        "8270ec6fb12c49828eb2734180a77a90": {
          "model_module": "@jupyter-widgets/controls",
          "model_name": "HTMLModel",
          "model_module_version": "1.5.0",
          "state": {
            "_dom_classes": [],
            "_model_module": "@jupyter-widgets/controls",
            "_model_module_version": "1.5.0",
            "_model_name": "HTMLModel",
            "_view_count": null,
            "_view_module": "@jupyter-widgets/controls",
            "_view_module_version": "1.5.0",
            "_view_name": "HTMLView",
            "description": "",
            "description_tooltip": null,
            "layout": "IPY_MODEL_36bae950cfb64836afc6b454363f0d1e",
            "placeholder": "​",
            "style": "IPY_MODEL_0f7ea64eb6b94378af2f4cb2dc2a8194",
            "value": "Map: 100%"
          }
        },
        "b1febfd82b4c48a491c68b7b4882bfd4": {
          "model_module": "@jupyter-widgets/controls",
          "model_name": "FloatProgressModel",
          "model_module_version": "1.5.0",
          "state": {
            "_dom_classes": [],
            "_model_module": "@jupyter-widgets/controls",
            "_model_module_version": "1.5.0",
            "_model_name": "FloatProgressModel",
            "_view_count": null,
            "_view_module": "@jupyter-widgets/controls",
            "_view_module_version": "1.5.0",
            "_view_name": "ProgressView",
            "bar_style": "",
            "description": "",
            "description_tooltip": null,
            "layout": "IPY_MODEL_9f2b97bd4c854f138f1d95bedbd637ef",
            "max": 958,
            "min": 0,
            "orientation": "horizontal",
            "style": "IPY_MODEL_29682220bc544f8c97bce2a162a5d468",
            "value": 958
          }
        },
        "a94b408b11684423b5dbe5f5553be218": {
          "model_module": "@jupyter-widgets/controls",
          "model_name": "HTMLModel",
          "model_module_version": "1.5.0",
          "state": {
            "_dom_classes": [],
            "_model_module": "@jupyter-widgets/controls",
            "_model_module_version": "1.5.0",
            "_model_name": "HTMLModel",
            "_view_count": null,
            "_view_module": "@jupyter-widgets/controls",
            "_view_module_version": "1.5.0",
            "_view_name": "HTMLView",
            "description": "",
            "description_tooltip": null,
            "layout": "IPY_MODEL_3d6aa6c0589c40c7a68b43f6e51673ec",
            "placeholder": "​",
            "style": "IPY_MODEL_e5fd258f1d0b431f93360f0e9453606e",
            "value": " 958/958 [00:00&lt;00:00, 2129.81 examples/s]"
          }
        },
        "49afe84694ba4979886cef9debc29282": {
          "model_module": "@jupyter-widgets/base",
          "model_name": "LayoutModel",
          "model_module_version": "1.2.0",
          "state": {
            "_model_module": "@jupyter-widgets/base",
            "_model_module_version": "1.2.0",
            "_model_name": "LayoutModel",
            "_view_count": null,
            "_view_module": "@jupyter-widgets/base",
            "_view_module_version": "1.2.0",
            "_view_name": "LayoutView",
            "align_content": null,
            "align_items": null,
            "align_self": null,
            "border": null,
            "bottom": null,
            "display": null,
            "flex": null,
            "flex_flow": null,
            "grid_area": null,
            "grid_auto_columns": null,
            "grid_auto_flow": null,
            "grid_auto_rows": null,
            "grid_column": null,
            "grid_gap": null,
            "grid_row": null,
            "grid_template_areas": null,
            "grid_template_columns": null,
            "grid_template_rows": null,
            "height": null,
            "justify_content": null,
            "justify_items": null,
            "left": null,
            "margin": null,
            "max_height": null,
            "max_width": null,
            "min_height": null,
            "min_width": null,
            "object_fit": null,
            "object_position": null,
            "order": null,
            "overflow": null,
            "overflow_x": null,
            "overflow_y": null,
            "padding": null,
            "right": null,
            "top": null,
            "visibility": "hidden",
            "width": null
          }
        },
        "36bae950cfb64836afc6b454363f0d1e": {
          "model_module": "@jupyter-widgets/base",
          "model_name": "LayoutModel",
          "model_module_version": "1.2.0",
          "state": {
            "_model_module": "@jupyter-widgets/base",
            "_model_module_version": "1.2.0",
            "_model_name": "LayoutModel",
            "_view_count": null,
            "_view_module": "@jupyter-widgets/base",
            "_view_module_version": "1.2.0",
            "_view_name": "LayoutView",
            "align_content": null,
            "align_items": null,
            "align_self": null,
            "border": null,
            "bottom": null,
            "display": null,
            "flex": null,
            "flex_flow": null,
            "grid_area": null,
            "grid_auto_columns": null,
            "grid_auto_flow": null,
            "grid_auto_rows": null,
            "grid_column": null,
            "grid_gap": null,
            "grid_row": null,
            "grid_template_areas": null,
            "grid_template_columns": null,
            "grid_template_rows": null,
            "height": null,
            "justify_content": null,
            "justify_items": null,
            "left": null,
            "margin": null,
            "max_height": null,
            "max_width": null,
            "min_height": null,
            "min_width": null,
            "object_fit": null,
            "object_position": null,
            "order": null,
            "overflow": null,
            "overflow_x": null,
            "overflow_y": null,
            "padding": null,
            "right": null,
            "top": null,
            "visibility": null,
            "width": null
          }
        },
        "0f7ea64eb6b94378af2f4cb2dc2a8194": {
          "model_module": "@jupyter-widgets/controls",
          "model_name": "DescriptionStyleModel",
          "model_module_version": "1.5.0",
          "state": {
            "_model_module": "@jupyter-widgets/controls",
            "_model_module_version": "1.5.0",
            "_model_name": "DescriptionStyleModel",
            "_view_count": null,
            "_view_module": "@jupyter-widgets/base",
            "_view_module_version": "1.2.0",
            "_view_name": "StyleView",
            "description_width": ""
          }
        },
        "9f2b97bd4c854f138f1d95bedbd637ef": {
          "model_module": "@jupyter-widgets/base",
          "model_name": "LayoutModel",
          "model_module_version": "1.2.0",
          "state": {
            "_model_module": "@jupyter-widgets/base",
            "_model_module_version": "1.2.0",
            "_model_name": "LayoutModel",
            "_view_count": null,
            "_view_module": "@jupyter-widgets/base",
            "_view_module_version": "1.2.0",
            "_view_name": "LayoutView",
            "align_content": null,
            "align_items": null,
            "align_self": null,
            "border": null,
            "bottom": null,
            "display": null,
            "flex": null,
            "flex_flow": null,
            "grid_area": null,
            "grid_auto_columns": null,
            "grid_auto_flow": null,
            "grid_auto_rows": null,
            "grid_column": null,
            "grid_gap": null,
            "grid_row": null,
            "grid_template_areas": null,
            "grid_template_columns": null,
            "grid_template_rows": null,
            "height": null,
            "justify_content": null,
            "justify_items": null,
            "left": null,
            "margin": null,
            "max_height": null,
            "max_width": null,
            "min_height": null,
            "min_width": null,
            "object_fit": null,
            "object_position": null,
            "order": null,
            "overflow": null,
            "overflow_x": null,
            "overflow_y": null,
            "padding": null,
            "right": null,
            "top": null,
            "visibility": null,
            "width": null
          }
        },
        "29682220bc544f8c97bce2a162a5d468": {
          "model_module": "@jupyter-widgets/controls",
          "model_name": "ProgressStyleModel",
          "model_module_version": "1.5.0",
          "state": {
            "_model_module": "@jupyter-widgets/controls",
            "_model_module_version": "1.5.0",
            "_model_name": "ProgressStyleModel",
            "_view_count": null,
            "_view_module": "@jupyter-widgets/base",
            "_view_module_version": "1.2.0",
            "_view_name": "StyleView",
            "bar_color": null,
            "description_width": ""
          }
        },
        "3d6aa6c0589c40c7a68b43f6e51673ec": {
          "model_module": "@jupyter-widgets/base",
          "model_name": "LayoutModel",
          "model_module_version": "1.2.0",
          "state": {
            "_model_module": "@jupyter-widgets/base",
            "_model_module_version": "1.2.0",
            "_model_name": "LayoutModel",
            "_view_count": null,
            "_view_module": "@jupyter-widgets/base",
            "_view_module_version": "1.2.0",
            "_view_name": "LayoutView",
            "align_content": null,
            "align_items": null,
            "align_self": null,
            "border": null,
            "bottom": null,
            "display": null,
            "flex": null,
            "flex_flow": null,
            "grid_area": null,
            "grid_auto_columns": null,
            "grid_auto_flow": null,
            "grid_auto_rows": null,
            "grid_column": null,
            "grid_gap": null,
            "grid_row": null,
            "grid_template_areas": null,
            "grid_template_columns": null,
            "grid_template_rows": null,
            "height": null,
            "justify_content": null,
            "justify_items": null,
            "left": null,
            "margin": null,
            "max_height": null,
            "max_width": null,
            "min_height": null,
            "min_width": null,
            "object_fit": null,
            "object_position": null,
            "order": null,
            "overflow": null,
            "overflow_x": null,
            "overflow_y": null,
            "padding": null,
            "right": null,
            "top": null,
            "visibility": null,
            "width": null
          }
        },
        "e5fd258f1d0b431f93360f0e9453606e": {
          "model_module": "@jupyter-widgets/controls",
          "model_name": "DescriptionStyleModel",
          "model_module_version": "1.5.0",
          "state": {
            "_model_module": "@jupyter-widgets/controls",
            "_model_module_version": "1.5.0",
            "_model_name": "DescriptionStyleModel",
            "_view_count": null,
            "_view_module": "@jupyter-widgets/base",
            "_view_module_version": "1.2.0",
            "_view_name": "StyleView",
            "description_width": ""
          }
        },
        "1898d14ad9b347dbba3fa59bbf647881": {
          "model_module": "@jupyter-widgets/controls",
          "model_name": "HBoxModel",
          "model_module_version": "1.5.0",
          "state": {
            "_dom_classes": [],
            "_model_module": "@jupyter-widgets/controls",
            "_model_module_version": "1.5.0",
            "_model_name": "HBoxModel",
            "_view_count": null,
            "_view_module": "@jupyter-widgets/controls",
            "_view_module_version": "1.5.0",
            "_view_name": "HBoxView",
            "box_style": "",
            "children": [
              "IPY_MODEL_f0459aabba95423782fa0d0a5205625f",
              "IPY_MODEL_0cd289f3185c4db6b090324cba5abb31",
              "IPY_MODEL_29121a71039d45d092a46eabc9662733"
            ],
            "layout": "IPY_MODEL_26185e4a54e94b638131a8c109d87e4e"
          }
        },
        "f0459aabba95423782fa0d0a5205625f": {
          "model_module": "@jupyter-widgets/controls",
          "model_name": "HTMLModel",
          "model_module_version": "1.5.0",
          "state": {
            "_dom_classes": [],
            "_model_module": "@jupyter-widgets/controls",
            "_model_module_version": "1.5.0",
            "_model_name": "HTMLModel",
            "_view_count": null,
            "_view_module": "@jupyter-widgets/controls",
            "_view_module_version": "1.5.0",
            "_view_name": "HTMLView",
            "description": "",
            "description_tooltip": null,
            "layout": "IPY_MODEL_0c7770f9f3694a5ca32cb7dbf3a75716",
            "placeholder": "​",
            "style": "IPY_MODEL_8766bfa88814461dacbdb19facac9110",
            "value": "Map: 100%"
          }
        },
        "0cd289f3185c4db6b090324cba5abb31": {
          "model_module": "@jupyter-widgets/controls",
          "model_name": "FloatProgressModel",
          "model_module_version": "1.5.0",
          "state": {
            "_dom_classes": [],
            "_model_module": "@jupyter-widgets/controls",
            "_model_module_version": "1.5.0",
            "_model_name": "FloatProgressModel",
            "_view_count": null,
            "_view_module": "@jupyter-widgets/controls",
            "_view_module_version": "1.5.0",
            "_view_name": "ProgressView",
            "bar_style": "",
            "description": "",
            "description_tooltip": null,
            "layout": "IPY_MODEL_d29cda46f6014631b60192e439488c20",
            "max": 533,
            "min": 0,
            "orientation": "horizontal",
            "style": "IPY_MODEL_0ed7994ace884c60926b7f40c44c7585",
            "value": 533
          }
        },
        "29121a71039d45d092a46eabc9662733": {
          "model_module": "@jupyter-widgets/controls",
          "model_name": "HTMLModel",
          "model_module_version": "1.5.0",
          "state": {
            "_dom_classes": [],
            "_model_module": "@jupyter-widgets/controls",
            "_model_module_version": "1.5.0",
            "_model_name": "HTMLModel",
            "_view_count": null,
            "_view_module": "@jupyter-widgets/controls",
            "_view_module_version": "1.5.0",
            "_view_name": "HTMLView",
            "description": "",
            "description_tooltip": null,
            "layout": "IPY_MODEL_e0ba2cb4732d4b398115544872d656c0",
            "placeholder": "​",
            "style": "IPY_MODEL_7e16d459f0544feab43183dc5c878ad4",
            "value": " 533/533 [00:00&lt;00:00, 3158.41 examples/s]"
          }
        },
        "26185e4a54e94b638131a8c109d87e4e": {
          "model_module": "@jupyter-widgets/base",
          "model_name": "LayoutModel",
          "model_module_version": "1.2.0",
          "state": {
            "_model_module": "@jupyter-widgets/base",
            "_model_module_version": "1.2.0",
            "_model_name": "LayoutModel",
            "_view_count": null,
            "_view_module": "@jupyter-widgets/base",
            "_view_module_version": "1.2.0",
            "_view_name": "LayoutView",
            "align_content": null,
            "align_items": null,
            "align_self": null,
            "border": null,
            "bottom": null,
            "display": null,
            "flex": null,
            "flex_flow": null,
            "grid_area": null,
            "grid_auto_columns": null,
            "grid_auto_flow": null,
            "grid_auto_rows": null,
            "grid_column": null,
            "grid_gap": null,
            "grid_row": null,
            "grid_template_areas": null,
            "grid_template_columns": null,
            "grid_template_rows": null,
            "height": null,
            "justify_content": null,
            "justify_items": null,
            "left": null,
            "margin": null,
            "max_height": null,
            "max_width": null,
            "min_height": null,
            "min_width": null,
            "object_fit": null,
            "object_position": null,
            "order": null,
            "overflow": null,
            "overflow_x": null,
            "overflow_y": null,
            "padding": null,
            "right": null,
            "top": null,
            "visibility": "hidden",
            "width": null
          }
        },
        "0c7770f9f3694a5ca32cb7dbf3a75716": {
          "model_module": "@jupyter-widgets/base",
          "model_name": "LayoutModel",
          "model_module_version": "1.2.0",
          "state": {
            "_model_module": "@jupyter-widgets/base",
            "_model_module_version": "1.2.0",
            "_model_name": "LayoutModel",
            "_view_count": null,
            "_view_module": "@jupyter-widgets/base",
            "_view_module_version": "1.2.0",
            "_view_name": "LayoutView",
            "align_content": null,
            "align_items": null,
            "align_self": null,
            "border": null,
            "bottom": null,
            "display": null,
            "flex": null,
            "flex_flow": null,
            "grid_area": null,
            "grid_auto_columns": null,
            "grid_auto_flow": null,
            "grid_auto_rows": null,
            "grid_column": null,
            "grid_gap": null,
            "grid_row": null,
            "grid_template_areas": null,
            "grid_template_columns": null,
            "grid_template_rows": null,
            "height": null,
            "justify_content": null,
            "justify_items": null,
            "left": null,
            "margin": null,
            "max_height": null,
            "max_width": null,
            "min_height": null,
            "min_width": null,
            "object_fit": null,
            "object_position": null,
            "order": null,
            "overflow": null,
            "overflow_x": null,
            "overflow_y": null,
            "padding": null,
            "right": null,
            "top": null,
            "visibility": null,
            "width": null
          }
        },
        "8766bfa88814461dacbdb19facac9110": {
          "model_module": "@jupyter-widgets/controls",
          "model_name": "DescriptionStyleModel",
          "model_module_version": "1.5.0",
          "state": {
            "_model_module": "@jupyter-widgets/controls",
            "_model_module_version": "1.5.0",
            "_model_name": "DescriptionStyleModel",
            "_view_count": null,
            "_view_module": "@jupyter-widgets/base",
            "_view_module_version": "1.2.0",
            "_view_name": "StyleView",
            "description_width": ""
          }
        },
        "d29cda46f6014631b60192e439488c20": {
          "model_module": "@jupyter-widgets/base",
          "model_name": "LayoutModel",
          "model_module_version": "1.2.0",
          "state": {
            "_model_module": "@jupyter-widgets/base",
            "_model_module_version": "1.2.0",
            "_model_name": "LayoutModel",
            "_view_count": null,
            "_view_module": "@jupyter-widgets/base",
            "_view_module_version": "1.2.0",
            "_view_name": "LayoutView",
            "align_content": null,
            "align_items": null,
            "align_self": null,
            "border": null,
            "bottom": null,
            "display": null,
            "flex": null,
            "flex_flow": null,
            "grid_area": null,
            "grid_auto_columns": null,
            "grid_auto_flow": null,
            "grid_auto_rows": null,
            "grid_column": null,
            "grid_gap": null,
            "grid_row": null,
            "grid_template_areas": null,
            "grid_template_columns": null,
            "grid_template_rows": null,
            "height": null,
            "justify_content": null,
            "justify_items": null,
            "left": null,
            "margin": null,
            "max_height": null,
            "max_width": null,
            "min_height": null,
            "min_width": null,
            "object_fit": null,
            "object_position": null,
            "order": null,
            "overflow": null,
            "overflow_x": null,
            "overflow_y": null,
            "padding": null,
            "right": null,
            "top": null,
            "visibility": null,
            "width": null
          }
        },
        "0ed7994ace884c60926b7f40c44c7585": {
          "model_module": "@jupyter-widgets/controls",
          "model_name": "ProgressStyleModel",
          "model_module_version": "1.5.0",
          "state": {
            "_model_module": "@jupyter-widgets/controls",
            "_model_module_version": "1.5.0",
            "_model_name": "ProgressStyleModel",
            "_view_count": null,
            "_view_module": "@jupyter-widgets/base",
            "_view_module_version": "1.2.0",
            "_view_name": "StyleView",
            "bar_color": null,
            "description_width": ""
          }
        },
        "e0ba2cb4732d4b398115544872d656c0": {
          "model_module": "@jupyter-widgets/base",
          "model_name": "LayoutModel",
          "model_module_version": "1.2.0",
          "state": {
            "_model_module": "@jupyter-widgets/base",
            "_model_module_version": "1.2.0",
            "_model_name": "LayoutModel",
            "_view_count": null,
            "_view_module": "@jupyter-widgets/base",
            "_view_module_version": "1.2.0",
            "_view_name": "LayoutView",
            "align_content": null,
            "align_items": null,
            "align_self": null,
            "border": null,
            "bottom": null,
            "display": null,
            "flex": null,
            "flex_flow": null,
            "grid_area": null,
            "grid_auto_columns": null,
            "grid_auto_flow": null,
            "grid_auto_rows": null,
            "grid_column": null,
            "grid_gap": null,
            "grid_row": null,
            "grid_template_areas": null,
            "grid_template_columns": null,
            "grid_template_rows": null,
            "height": null,
            "justify_content": null,
            "justify_items": null,
            "left": null,
            "margin": null,
            "max_height": null,
            "max_width": null,
            "min_height": null,
            "min_width": null,
            "object_fit": null,
            "object_position": null,
            "order": null,
            "overflow": null,
            "overflow_x": null,
            "overflow_y": null,
            "padding": null,
            "right": null,
            "top": null,
            "visibility": null,
            "width": null
          }
        },
        "7e16d459f0544feab43183dc5c878ad4": {
          "model_module": "@jupyter-widgets/controls",
          "model_name": "DescriptionStyleModel",
          "model_module_version": "1.5.0",
          "state": {
            "_model_module": "@jupyter-widgets/controls",
            "_model_module_version": "1.5.0",
            "_model_name": "DescriptionStyleModel",
            "_view_count": null,
            "_view_module": "@jupyter-widgets/base",
            "_view_module_version": "1.2.0",
            "_view_name": "StyleView",
            "description_width": ""
          }
        },
        "66841a73f322419495ab07b910d76e8b": {
          "model_module": "@jupyter-widgets/controls",
          "model_name": "HBoxModel",
          "model_module_version": "1.5.0",
          "state": {
            "_dom_classes": [],
            "_model_module": "@jupyter-widgets/controls",
            "_model_module_version": "1.5.0",
            "_model_name": "HBoxModel",
            "_view_count": null,
            "_view_module": "@jupyter-widgets/controls",
            "_view_module_version": "1.5.0",
            "_view_name": "HBoxView",
            "box_style": "",
            "children": [
              "IPY_MODEL_7381f3adcfe443a19c6435dfb811dd08",
              "IPY_MODEL_a537db88e4a54ad9bc189519bf66a3be",
              "IPY_MODEL_e86cf93b6d0749c3b997e4f1a86703d2"
            ],
            "layout": "IPY_MODEL_e85c2ce11d874a5496fccbb34bd0aad1"
          }
        },
        "7381f3adcfe443a19c6435dfb811dd08": {
          "model_module": "@jupyter-widgets/controls",
          "model_name": "HTMLModel",
          "model_module_version": "1.5.0",
          "state": {
            "_dom_classes": [],
            "_model_module": "@jupyter-widgets/controls",
            "_model_module_version": "1.5.0",
            "_model_name": "HTMLModel",
            "_view_count": null,
            "_view_module": "@jupyter-widgets/controls",
            "_view_module_version": "1.5.0",
            "_view_name": "HTMLView",
            "description": "",
            "description_tooltip": null,
            "layout": "IPY_MODEL_b5c7e3893ac44803b0997ba053bc228b",
            "placeholder": "​",
            "style": "IPY_MODEL_9369441e215040cea70e4a4e04b0dd14",
            "value": " 62%"
          }
        },
        "a537db88e4a54ad9bc189519bf66a3be": {
          "model_module": "@jupyter-widgets/controls",
          "model_name": "FloatProgressModel",
          "model_module_version": "1.5.0",
          "state": {
            "_dom_classes": [],
            "_model_module": "@jupyter-widgets/controls",
            "_model_module_version": "1.5.0",
            "_model_name": "FloatProgressModel",
            "_view_count": null,
            "_view_module": "@jupyter-widgets/controls",
            "_view_module_version": "1.5.0",
            "_view_name": "ProgressView",
            "bar_style": "",
            "description": "",
            "description_tooltip": null,
            "layout": "IPY_MODEL_20f9e8562c54431abb2e7a9c12a2f362",
            "max": 600,
            "min": 0,
            "orientation": "horizontal",
            "style": "IPY_MODEL_c6a016e4037d4f068bf513f3f4423c63",
            "value": 370
          }
        },
        "e86cf93b6d0749c3b997e4f1a86703d2": {
          "model_module": "@jupyter-widgets/controls",
          "model_name": "HTMLModel",
          "model_module_version": "1.5.0",
          "state": {
            "_dom_classes": [],
            "_model_module": "@jupyter-widgets/controls",
            "_model_module_version": "1.5.0",
            "_model_name": "HTMLModel",
            "_view_count": null,
            "_view_module": "@jupyter-widgets/controls",
            "_view_module_version": "1.5.0",
            "_view_name": "HTMLView",
            "description": "",
            "description_tooltip": null,
            "layout": "IPY_MODEL_23f22bbe430b444daed0d0d656dc61a5",
            "placeholder": "​",
            "style": "IPY_MODEL_fc9ee22d55564da4a788d1440288a26e",
            "value": " 370/600 [5:18:15&lt;3:22:39, 52.87s/it]"
          }
        },
        "e85c2ce11d874a5496fccbb34bd0aad1": {
          "model_module": "@jupyter-widgets/base",
          "model_name": "LayoutModel",
          "model_module_version": "1.2.0",
          "state": {
            "_model_module": "@jupyter-widgets/base",
            "_model_module_version": "1.2.0",
            "_model_name": "LayoutModel",
            "_view_count": null,
            "_view_module": "@jupyter-widgets/base",
            "_view_module_version": "1.2.0",
            "_view_name": "LayoutView",
            "align_content": null,
            "align_items": null,
            "align_self": null,
            "border": null,
            "bottom": null,
            "display": null,
            "flex": null,
            "flex_flow": null,
            "grid_area": null,
            "grid_auto_columns": null,
            "grid_auto_flow": null,
            "grid_auto_rows": null,
            "grid_column": null,
            "grid_gap": null,
            "grid_row": null,
            "grid_template_areas": null,
            "grid_template_columns": null,
            "grid_template_rows": null,
            "height": null,
            "justify_content": null,
            "justify_items": null,
            "left": null,
            "margin": null,
            "max_height": null,
            "max_width": null,
            "min_height": null,
            "min_width": null,
            "object_fit": null,
            "object_position": null,
            "order": null,
            "overflow": null,
            "overflow_x": null,
            "overflow_y": null,
            "padding": null,
            "right": null,
            "top": null,
            "visibility": null,
            "width": null
          }
        },
        "b5c7e3893ac44803b0997ba053bc228b": {
          "model_module": "@jupyter-widgets/base",
          "model_name": "LayoutModel",
          "model_module_version": "1.2.0",
          "state": {
            "_model_module": "@jupyter-widgets/base",
            "_model_module_version": "1.2.0",
            "_model_name": "LayoutModel",
            "_view_count": null,
            "_view_module": "@jupyter-widgets/base",
            "_view_module_version": "1.2.0",
            "_view_name": "LayoutView",
            "align_content": null,
            "align_items": null,
            "align_self": null,
            "border": null,
            "bottom": null,
            "display": null,
            "flex": null,
            "flex_flow": null,
            "grid_area": null,
            "grid_auto_columns": null,
            "grid_auto_flow": null,
            "grid_auto_rows": null,
            "grid_column": null,
            "grid_gap": null,
            "grid_row": null,
            "grid_template_areas": null,
            "grid_template_columns": null,
            "grid_template_rows": null,
            "height": null,
            "justify_content": null,
            "justify_items": null,
            "left": null,
            "margin": null,
            "max_height": null,
            "max_width": null,
            "min_height": null,
            "min_width": null,
            "object_fit": null,
            "object_position": null,
            "order": null,
            "overflow": null,
            "overflow_x": null,
            "overflow_y": null,
            "padding": null,
            "right": null,
            "top": null,
            "visibility": null,
            "width": null
          }
        },
        "9369441e215040cea70e4a4e04b0dd14": {
          "model_module": "@jupyter-widgets/controls",
          "model_name": "DescriptionStyleModel",
          "model_module_version": "1.5.0",
          "state": {
            "_model_module": "@jupyter-widgets/controls",
            "_model_module_version": "1.5.0",
            "_model_name": "DescriptionStyleModel",
            "_view_count": null,
            "_view_module": "@jupyter-widgets/base",
            "_view_module_version": "1.2.0",
            "_view_name": "StyleView",
            "description_width": ""
          }
        },
        "20f9e8562c54431abb2e7a9c12a2f362": {
          "model_module": "@jupyter-widgets/base",
          "model_name": "LayoutModel",
          "model_module_version": "1.2.0",
          "state": {
            "_model_module": "@jupyter-widgets/base",
            "_model_module_version": "1.2.0",
            "_model_name": "LayoutModel",
            "_view_count": null,
            "_view_module": "@jupyter-widgets/base",
            "_view_module_version": "1.2.0",
            "_view_name": "LayoutView",
            "align_content": null,
            "align_items": null,
            "align_self": null,
            "border": null,
            "bottom": null,
            "display": null,
            "flex": null,
            "flex_flow": null,
            "grid_area": null,
            "grid_auto_columns": null,
            "grid_auto_flow": null,
            "grid_auto_rows": null,
            "grid_column": null,
            "grid_gap": null,
            "grid_row": null,
            "grid_template_areas": null,
            "grid_template_columns": null,
            "grid_template_rows": null,
            "height": null,
            "justify_content": null,
            "justify_items": null,
            "left": null,
            "margin": null,
            "max_height": null,
            "max_width": null,
            "min_height": null,
            "min_width": null,
            "object_fit": null,
            "object_position": null,
            "order": null,
            "overflow": null,
            "overflow_x": null,
            "overflow_y": null,
            "padding": null,
            "right": null,
            "top": null,
            "visibility": null,
            "width": null
          }
        },
        "c6a016e4037d4f068bf513f3f4423c63": {
          "model_module": "@jupyter-widgets/controls",
          "model_name": "ProgressStyleModel",
          "model_module_version": "1.5.0",
          "state": {
            "_model_module": "@jupyter-widgets/controls",
            "_model_module_version": "1.5.0",
            "_model_name": "ProgressStyleModel",
            "_view_count": null,
            "_view_module": "@jupyter-widgets/base",
            "_view_module_version": "1.2.0",
            "_view_name": "StyleView",
            "bar_color": null,
            "description_width": ""
          }
        },
        "23f22bbe430b444daed0d0d656dc61a5": {
          "model_module": "@jupyter-widgets/base",
          "model_name": "LayoutModel",
          "model_module_version": "1.2.0",
          "state": {
            "_model_module": "@jupyter-widgets/base",
            "_model_module_version": "1.2.0",
            "_model_name": "LayoutModel",
            "_view_count": null,
            "_view_module": "@jupyter-widgets/base",
            "_view_module_version": "1.2.0",
            "_view_name": "LayoutView",
            "align_content": null,
            "align_items": null,
            "align_self": null,
            "border": null,
            "bottom": null,
            "display": null,
            "flex": null,
            "flex_flow": null,
            "grid_area": null,
            "grid_auto_columns": null,
            "grid_auto_flow": null,
            "grid_auto_rows": null,
            "grid_column": null,
            "grid_gap": null,
            "grid_row": null,
            "grid_template_areas": null,
            "grid_template_columns": null,
            "grid_template_rows": null,
            "height": null,
            "justify_content": null,
            "justify_items": null,
            "left": null,
            "margin": null,
            "max_height": null,
            "max_width": null,
            "min_height": null,
            "min_width": null,
            "object_fit": null,
            "object_position": null,
            "order": null,
            "overflow": null,
            "overflow_x": null,
            "overflow_y": null,
            "padding": null,
            "right": null,
            "top": null,
            "visibility": null,
            "width": null
          }
        },
        "fc9ee22d55564da4a788d1440288a26e": {
          "model_module": "@jupyter-widgets/controls",
          "model_name": "DescriptionStyleModel",
          "model_module_version": "1.5.0",
          "state": {
            "_model_module": "@jupyter-widgets/controls",
            "_model_module_version": "1.5.0",
            "_model_name": "DescriptionStyleModel",
            "_view_count": null,
            "_view_module": "@jupyter-widgets/base",
            "_view_module_version": "1.2.0",
            "_view_name": "StyleView",
            "description_width": ""
          }
        }
      }
    },
    "colab": {
      "provenance": []
    }
  },
  "nbformat": 4,
  "nbformat_minor": 5
}